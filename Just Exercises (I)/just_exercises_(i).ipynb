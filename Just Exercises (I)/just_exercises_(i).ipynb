{
 "cells": [
  {
   "cell_type": "markdown",
   "id": "123456",
   "metadata": {},
   "source": [
    "<div style=\"text-align:left;font-size:2em\"><span style=\"font-weight:bolder;font-size:1.25em\">SP2273 | Learning Portfolio</span><br><br><span style=\"font-weight:bold;color:darkred\">Just Exercises (I)</span></div>"
   ]
  },
  {
   "cell_type": "markdown",
   "id": "f161b360",
   "metadata": {},
   "source": [
    "## Exercise 1 :  F-strings to the rescue"
   ]
  },
  {
   "cell_type": "code",
   "execution_count": 17,
   "id": "ecf44768",
   "metadata": {},
   "outputs": [
    {
     "name": "stdout",
     "output_type": "stream",
     "text": [
      "00001\n",
      "00002\n",
      "00003\n",
      "00004\n",
      "00005\n",
      "00006\n",
      "00007\n",
      "00008\n",
      "00009\n",
      "00010\n"
     ]
    }
   ],
   "source": [
    "for n in range(1,11):\n",
    "    zeros = '0'*(5-len(str(n)))\n",
    "    print(f\"{zeros}{n}\")"
   ]
  },
  {
   "cell_type": "code",
   "execution_count": 19,
   "id": "043fbce5",
   "metadata": {},
   "outputs": [
    {
     "name": "stdout",
     "output_type": "stream",
     "text": [
      "001         +\n",
      "002        ++\n",
      "003       +++\n",
      "004      ++++\n",
      "005     +++++\n",
      "006    ++++++\n",
      "007   +++++++\n",
      "008  ++++++++\n",
      "009 +++++++++\n",
      "010++++++++++\n"
     ]
    }
   ],
   "source": [
    "for n in range(1,11):\n",
    "    zeros = '0'*(3-len(str(n)))\n",
    "    print(f\"{zeros}{n}\" + ' '*(10-n) + '+'*n)"
   ]
  },
  {
   "cell_type": "code",
   "execution_count": 20,
   "id": "15f64c74",
   "metadata": {},
   "outputs": [
    {
     "name": "stdout",
     "output_type": "stream",
     "text": [
      "001-+++++++++\n",
      "002--++++++++\n",
      "003---+++++++\n",
      "004----++++++\n",
      "005-----+++++\n",
      "006------++++\n",
      "007-------+++\n",
      "008--------++\n",
      "009---------+\n",
      "010----------\n"
     ]
    }
   ],
   "source": [
    "for n in range(1,11):\n",
    "    zeros = '0'*(3-len(str(n)))\n",
    "    print(f\"{zeros}{n}\" + '-'*n + '+'*(10-n))"
   ]
  },
  {
   "cell_type": "code",
   "execution_count": 23,
   "id": "abfd7566",
   "metadata": {},
   "outputs": [
    {
     "name": "stdout",
     "output_type": "stream",
     "text": [
      "['bruce_exploits.txt', 'bruce_enemies.txt', 'bruce_friends.txt', 'natasha_exploits.txt', 'natasha_enemies.txt', 'natasha_friends.txt', 'tony_exploits.txt', 'tony_enemies.txt', 'tony_friends.txt']\n"
     ]
    }
   ],
   "source": [
    "heros = ['bruce','natasha','tony']\n",
    "info = ['exploits','enemies','friends']\n",
    "files = []\n",
    "for hero in heros:\n",
    "    for i in info:\n",
    "        files.append(f'{hero}_{i}.txt')\n",
    "print(files)"
   ]
  },
  {
   "cell_type": "code",
   "execution_count": 24,
   "id": "da240188",
   "metadata": {},
   "outputs": [
    {
     "name": "stdout",
     "output_type": "stream",
     "text": [
      "['data_sg_exp-01_trial-001.txt', 'data_sg_exp-01_trial-002.txt', 'data_sg_exp-01_trial-003.txt', 'data_sg_exp-01_trial-004.txt', 'data_sg_exp-01_trial-005.txt', 'data_sg_exp-01_trial-006.txt', 'data_sg_exp-01_trial-007.txt', 'data_sg_exp-01_trial-008.txt', 'data_sg_exp-01_trial-009.txt', 'data_sg_exp-01_trial-010.txt', 'data_sg_exp-01_trial-011.txt', 'data_sg_exp-01_trial-012.txt', 'data_sg_exp-01_trial-013.txt', 'data_sg_exp-01_trial-014.txt', 'data_sg_exp-01_trial-015.txt', 'data_sg_exp-01_trial-016.txt', 'data_sg_exp-01_trial-017.txt', 'data_sg_exp-01_trial-018.txt', 'data_sg_exp-01_trial-019.txt', 'data_sg_exp-01_trial-020.txt', 'data_sg_exp-01_trial-021.txt', 'data_sg_exp-01_trial-022.txt', 'data_sg_exp-01_trial-023.txt', 'data_sg_exp-01_trial-024.txt', 'data_sg_exp-01_trial-025.txt', 'data_sg_exp-01_trial-026.txt', 'data_sg_exp-01_trial-027.txt', 'data_sg_exp-01_trial-028.txt', 'data_sg_exp-01_trial-029.txt', 'data_sg_exp-01_trial-030.txt', 'data_sg_exp-01_trial-031.txt', 'data_sg_exp-01_trial-032.txt', 'data_sg_exp-01_trial-033.txt', 'data_sg_exp-01_trial-034.txt', 'data_sg_exp-01_trial-035.txt', 'data_sg_exp-01_trial-036.txt', 'data_sg_exp-01_trial-037.txt', 'data_sg_exp-01_trial-038.txt', 'data_sg_exp-01_trial-039.txt', 'data_sg_exp-01_trial-040.txt', 'data_sg_exp-01_trial-041.txt', 'data_sg_exp-01_trial-042.txt', 'data_sg_exp-01_trial-043.txt', 'data_sg_exp-01_trial-044.txt', 'data_sg_exp-01_trial-045.txt', 'data_sg_exp-01_trial-046.txt', 'data_sg_exp-01_trial-047.txt', 'data_sg_exp-01_trial-048.txt', 'data_sg_exp-01_trial-049.txt', 'data_sg_exp-01_trial-050.txt', 'data_sg_exp-02_trial-001.txt', 'data_sg_exp-02_trial-002.txt', 'data_sg_exp-02_trial-003.txt', 'data_sg_exp-02_trial-004.txt', 'data_sg_exp-02_trial-005.txt', 'data_sg_exp-02_trial-006.txt', 'data_sg_exp-02_trial-007.txt', 'data_sg_exp-02_trial-008.txt', 'data_sg_exp-02_trial-009.txt', 'data_sg_exp-02_trial-010.txt', 'data_sg_exp-02_trial-011.txt', 'data_sg_exp-02_trial-012.txt', 'data_sg_exp-02_trial-013.txt', 'data_sg_exp-02_trial-014.txt', 'data_sg_exp-02_trial-015.txt', 'data_sg_exp-02_trial-016.txt', 'data_sg_exp-02_trial-017.txt', 'data_sg_exp-02_trial-018.txt', 'data_sg_exp-02_trial-019.txt', 'data_sg_exp-02_trial-020.txt', 'data_sg_exp-02_trial-021.txt', 'data_sg_exp-02_trial-022.txt', 'data_sg_exp-02_trial-023.txt', 'data_sg_exp-02_trial-024.txt', 'data_sg_exp-02_trial-025.txt', 'data_sg_exp-02_trial-026.txt', 'data_sg_exp-02_trial-027.txt', 'data_sg_exp-02_trial-028.txt', 'data_sg_exp-02_trial-029.txt', 'data_sg_exp-02_trial-030.txt', 'data_sg_exp-02_trial-031.txt', 'data_sg_exp-02_trial-032.txt', 'data_sg_exp-02_trial-033.txt', 'data_sg_exp-02_trial-034.txt', 'data_sg_exp-02_trial-035.txt', 'data_sg_exp-02_trial-036.txt', 'data_sg_exp-02_trial-037.txt', 'data_sg_exp-02_trial-038.txt', 'data_sg_exp-02_trial-039.txt', 'data_sg_exp-02_trial-040.txt', 'data_sg_exp-02_trial-041.txt', 'data_sg_exp-02_trial-042.txt', 'data_sg_exp-02_trial-043.txt', 'data_sg_exp-02_trial-044.txt', 'data_sg_exp-02_trial-045.txt', 'data_sg_exp-02_trial-046.txt', 'data_sg_exp-02_trial-047.txt', 'data_sg_exp-02_trial-048.txt', 'data_sg_exp-02_trial-049.txt', 'data_sg_exp-02_trial-050.txt', 'data_sg_exp-03_trial-001.txt', 'data_sg_exp-03_trial-002.txt', 'data_sg_exp-03_trial-003.txt', 'data_sg_exp-03_trial-004.txt', 'data_sg_exp-03_trial-005.txt', 'data_sg_exp-03_trial-006.txt', 'data_sg_exp-03_trial-007.txt', 'data_sg_exp-03_trial-008.txt', 'data_sg_exp-03_trial-009.txt', 'data_sg_exp-03_trial-010.txt', 'data_sg_exp-03_trial-011.txt', 'data_sg_exp-03_trial-012.txt', 'data_sg_exp-03_trial-013.txt', 'data_sg_exp-03_trial-014.txt', 'data_sg_exp-03_trial-015.txt', 'data_sg_exp-03_trial-016.txt', 'data_sg_exp-03_trial-017.txt', 'data_sg_exp-03_trial-018.txt', 'data_sg_exp-03_trial-019.txt', 'data_sg_exp-03_trial-020.txt', 'data_sg_exp-03_trial-021.txt', 'data_sg_exp-03_trial-022.txt', 'data_sg_exp-03_trial-023.txt', 'data_sg_exp-03_trial-024.txt', 'data_sg_exp-03_trial-025.txt', 'data_sg_exp-03_trial-026.txt', 'data_sg_exp-03_trial-027.txt', 'data_sg_exp-03_trial-028.txt', 'data_sg_exp-03_trial-029.txt', 'data_sg_exp-03_trial-030.txt', 'data_sg_exp-03_trial-031.txt', 'data_sg_exp-03_trial-032.txt', 'data_sg_exp-03_trial-033.txt', 'data_sg_exp-03_trial-034.txt', 'data_sg_exp-03_trial-035.txt', 'data_sg_exp-03_trial-036.txt', 'data_sg_exp-03_trial-037.txt', 'data_sg_exp-03_trial-038.txt', 'data_sg_exp-03_trial-039.txt', 'data_sg_exp-03_trial-040.txt', 'data_sg_exp-03_trial-041.txt', 'data_sg_exp-03_trial-042.txt', 'data_sg_exp-03_trial-043.txt', 'data_sg_exp-03_trial-044.txt', 'data_sg_exp-03_trial-045.txt', 'data_sg_exp-03_trial-046.txt', 'data_sg_exp-03_trial-047.txt', 'data_sg_exp-03_trial-048.txt', 'data_sg_exp-03_trial-049.txt', 'data_sg_exp-03_trial-050.txt', 'data_gb_exp-01_trial-001.txt', 'data_gb_exp-01_trial-002.txt', 'data_gb_exp-01_trial-003.txt', 'data_gb_exp-01_trial-004.txt', 'data_gb_exp-01_trial-005.txt', 'data_gb_exp-01_trial-006.txt', 'data_gb_exp-01_trial-007.txt', 'data_gb_exp-01_trial-008.txt', 'data_gb_exp-01_trial-009.txt', 'data_gb_exp-01_trial-010.txt', 'data_gb_exp-01_trial-011.txt', 'data_gb_exp-01_trial-012.txt', 'data_gb_exp-01_trial-013.txt', 'data_gb_exp-01_trial-014.txt', 'data_gb_exp-01_trial-015.txt', 'data_gb_exp-01_trial-016.txt', 'data_gb_exp-01_trial-017.txt', 'data_gb_exp-01_trial-018.txt', 'data_gb_exp-01_trial-019.txt', 'data_gb_exp-01_trial-020.txt', 'data_gb_exp-01_trial-021.txt', 'data_gb_exp-01_trial-022.txt', 'data_gb_exp-01_trial-023.txt', 'data_gb_exp-01_trial-024.txt', 'data_gb_exp-01_trial-025.txt', 'data_gb_exp-01_trial-026.txt', 'data_gb_exp-01_trial-027.txt', 'data_gb_exp-01_trial-028.txt', 'data_gb_exp-01_trial-029.txt', 'data_gb_exp-01_trial-030.txt', 'data_gb_exp-01_trial-031.txt', 'data_gb_exp-01_trial-032.txt', 'data_gb_exp-01_trial-033.txt', 'data_gb_exp-01_trial-034.txt', 'data_gb_exp-01_trial-035.txt', 'data_gb_exp-01_trial-036.txt', 'data_gb_exp-01_trial-037.txt', 'data_gb_exp-01_trial-038.txt', 'data_gb_exp-01_trial-039.txt', 'data_gb_exp-01_trial-040.txt', 'data_gb_exp-01_trial-041.txt', 'data_gb_exp-01_trial-042.txt', 'data_gb_exp-01_trial-043.txt', 'data_gb_exp-01_trial-044.txt', 'data_gb_exp-01_trial-045.txt', 'data_gb_exp-01_trial-046.txt', 'data_gb_exp-01_trial-047.txt', 'data_gb_exp-01_trial-048.txt', 'data_gb_exp-01_trial-049.txt', 'data_gb_exp-01_trial-050.txt', 'data_gb_exp-02_trial-001.txt', 'data_gb_exp-02_trial-002.txt', 'data_gb_exp-02_trial-003.txt', 'data_gb_exp-02_trial-004.txt', 'data_gb_exp-02_trial-005.txt', 'data_gb_exp-02_trial-006.txt', 'data_gb_exp-02_trial-007.txt', 'data_gb_exp-02_trial-008.txt', 'data_gb_exp-02_trial-009.txt', 'data_gb_exp-02_trial-010.txt', 'data_gb_exp-02_trial-011.txt', 'data_gb_exp-02_trial-012.txt', 'data_gb_exp-02_trial-013.txt', 'data_gb_exp-02_trial-014.txt', 'data_gb_exp-02_trial-015.txt', 'data_gb_exp-02_trial-016.txt', 'data_gb_exp-02_trial-017.txt', 'data_gb_exp-02_trial-018.txt', 'data_gb_exp-02_trial-019.txt', 'data_gb_exp-02_trial-020.txt', 'data_gb_exp-02_trial-021.txt', 'data_gb_exp-02_trial-022.txt', 'data_gb_exp-02_trial-023.txt', 'data_gb_exp-02_trial-024.txt', 'data_gb_exp-02_trial-025.txt', 'data_gb_exp-02_trial-026.txt', 'data_gb_exp-02_trial-027.txt', 'data_gb_exp-02_trial-028.txt', 'data_gb_exp-02_trial-029.txt', 'data_gb_exp-02_trial-030.txt', 'data_gb_exp-02_trial-031.txt', 'data_gb_exp-02_trial-032.txt', 'data_gb_exp-02_trial-033.txt', 'data_gb_exp-02_trial-034.txt', 'data_gb_exp-02_trial-035.txt', 'data_gb_exp-02_trial-036.txt', 'data_gb_exp-02_trial-037.txt', 'data_gb_exp-02_trial-038.txt', 'data_gb_exp-02_trial-039.txt', 'data_gb_exp-02_trial-040.txt', 'data_gb_exp-02_trial-041.txt', 'data_gb_exp-02_trial-042.txt', 'data_gb_exp-02_trial-043.txt', 'data_gb_exp-02_trial-044.txt', 'data_gb_exp-02_trial-045.txt', 'data_gb_exp-02_trial-046.txt', 'data_gb_exp-02_trial-047.txt', 'data_gb_exp-02_trial-048.txt', 'data_gb_exp-02_trial-049.txt', 'data_gb_exp-02_trial-050.txt', 'data_gb_exp-03_trial-001.txt', 'data_gb_exp-03_trial-002.txt', 'data_gb_exp-03_trial-003.txt', 'data_gb_exp-03_trial-004.txt', 'data_gb_exp-03_trial-005.txt', 'data_gb_exp-03_trial-006.txt', 'data_gb_exp-03_trial-007.txt', 'data_gb_exp-03_trial-008.txt', 'data_gb_exp-03_trial-009.txt', 'data_gb_exp-03_trial-010.txt', 'data_gb_exp-03_trial-011.txt', 'data_gb_exp-03_trial-012.txt', 'data_gb_exp-03_trial-013.txt', 'data_gb_exp-03_trial-014.txt', 'data_gb_exp-03_trial-015.txt', 'data_gb_exp-03_trial-016.txt', 'data_gb_exp-03_trial-017.txt', 'data_gb_exp-03_trial-018.txt', 'data_gb_exp-03_trial-019.txt', 'data_gb_exp-03_trial-020.txt', 'data_gb_exp-03_trial-021.txt', 'data_gb_exp-03_trial-022.txt', 'data_gb_exp-03_trial-023.txt', 'data_gb_exp-03_trial-024.txt', 'data_gb_exp-03_trial-025.txt', 'data_gb_exp-03_trial-026.txt', 'data_gb_exp-03_trial-027.txt', 'data_gb_exp-03_trial-028.txt', 'data_gb_exp-03_trial-029.txt', 'data_gb_exp-03_trial-030.txt', 'data_gb_exp-03_trial-031.txt', 'data_gb_exp-03_trial-032.txt', 'data_gb_exp-03_trial-033.txt', 'data_gb_exp-03_trial-034.txt', 'data_gb_exp-03_trial-035.txt', 'data_gb_exp-03_trial-036.txt', 'data_gb_exp-03_trial-037.txt', 'data_gb_exp-03_trial-038.txt', 'data_gb_exp-03_trial-039.txt', 'data_gb_exp-03_trial-040.txt', 'data_gb_exp-03_trial-041.txt', 'data_gb_exp-03_trial-042.txt', 'data_gb_exp-03_trial-043.txt', 'data_gb_exp-03_trial-044.txt', 'data_gb_exp-03_trial-045.txt', 'data_gb_exp-03_trial-046.txt', 'data_gb_exp-03_trial-047.txt', 'data_gb_exp-03_trial-048.txt', 'data_gb_exp-03_trial-049.txt', 'data_gb_exp-03_trial-050.txt', 'data_us_exp-01_trial-001.txt', 'data_us_exp-01_trial-002.txt', 'data_us_exp-01_trial-003.txt', 'data_us_exp-01_trial-004.txt', 'data_us_exp-01_trial-005.txt', 'data_us_exp-01_trial-006.txt', 'data_us_exp-01_trial-007.txt', 'data_us_exp-01_trial-008.txt', 'data_us_exp-01_trial-009.txt', 'data_us_exp-01_trial-010.txt', 'data_us_exp-01_trial-011.txt', 'data_us_exp-01_trial-012.txt', 'data_us_exp-01_trial-013.txt', 'data_us_exp-01_trial-014.txt', 'data_us_exp-01_trial-015.txt', 'data_us_exp-01_trial-016.txt', 'data_us_exp-01_trial-017.txt', 'data_us_exp-01_trial-018.txt', 'data_us_exp-01_trial-019.txt', 'data_us_exp-01_trial-020.txt', 'data_us_exp-01_trial-021.txt', 'data_us_exp-01_trial-022.txt', 'data_us_exp-01_trial-023.txt', 'data_us_exp-01_trial-024.txt', 'data_us_exp-01_trial-025.txt', 'data_us_exp-01_trial-026.txt', 'data_us_exp-01_trial-027.txt', 'data_us_exp-01_trial-028.txt', 'data_us_exp-01_trial-029.txt', 'data_us_exp-01_trial-030.txt', 'data_us_exp-01_trial-031.txt', 'data_us_exp-01_trial-032.txt', 'data_us_exp-01_trial-033.txt', 'data_us_exp-01_trial-034.txt', 'data_us_exp-01_trial-035.txt', 'data_us_exp-01_trial-036.txt', 'data_us_exp-01_trial-037.txt', 'data_us_exp-01_trial-038.txt', 'data_us_exp-01_trial-039.txt', 'data_us_exp-01_trial-040.txt', 'data_us_exp-01_trial-041.txt', 'data_us_exp-01_trial-042.txt', 'data_us_exp-01_trial-043.txt', 'data_us_exp-01_trial-044.txt', 'data_us_exp-01_trial-045.txt', 'data_us_exp-01_trial-046.txt', 'data_us_exp-01_trial-047.txt', 'data_us_exp-01_trial-048.txt', 'data_us_exp-01_trial-049.txt', 'data_us_exp-01_trial-050.txt', 'data_us_exp-02_trial-001.txt', 'data_us_exp-02_trial-002.txt', 'data_us_exp-02_trial-003.txt', 'data_us_exp-02_trial-004.txt', 'data_us_exp-02_trial-005.txt', 'data_us_exp-02_trial-006.txt', 'data_us_exp-02_trial-007.txt', 'data_us_exp-02_trial-008.txt', 'data_us_exp-02_trial-009.txt', 'data_us_exp-02_trial-010.txt', 'data_us_exp-02_trial-011.txt', 'data_us_exp-02_trial-012.txt', 'data_us_exp-02_trial-013.txt', 'data_us_exp-02_trial-014.txt', 'data_us_exp-02_trial-015.txt', 'data_us_exp-02_trial-016.txt', 'data_us_exp-02_trial-017.txt', 'data_us_exp-02_trial-018.txt', 'data_us_exp-02_trial-019.txt', 'data_us_exp-02_trial-020.txt', 'data_us_exp-02_trial-021.txt', 'data_us_exp-02_trial-022.txt', 'data_us_exp-02_trial-023.txt', 'data_us_exp-02_trial-024.txt', 'data_us_exp-02_trial-025.txt', 'data_us_exp-02_trial-026.txt', 'data_us_exp-02_trial-027.txt', 'data_us_exp-02_trial-028.txt', 'data_us_exp-02_trial-029.txt', 'data_us_exp-02_trial-030.txt', 'data_us_exp-02_trial-031.txt', 'data_us_exp-02_trial-032.txt', 'data_us_exp-02_trial-033.txt', 'data_us_exp-02_trial-034.txt', 'data_us_exp-02_trial-035.txt', 'data_us_exp-02_trial-036.txt', 'data_us_exp-02_trial-037.txt', 'data_us_exp-02_trial-038.txt', 'data_us_exp-02_trial-039.txt', 'data_us_exp-02_trial-040.txt', 'data_us_exp-02_trial-041.txt', 'data_us_exp-02_trial-042.txt', 'data_us_exp-02_trial-043.txt', 'data_us_exp-02_trial-044.txt', 'data_us_exp-02_trial-045.txt', 'data_us_exp-02_trial-046.txt', 'data_us_exp-02_trial-047.txt', 'data_us_exp-02_trial-048.txt', 'data_us_exp-02_trial-049.txt', 'data_us_exp-02_trial-050.txt', 'data_us_exp-03_trial-001.txt', 'data_us_exp-03_trial-002.txt', 'data_us_exp-03_trial-003.txt', 'data_us_exp-03_trial-004.txt', 'data_us_exp-03_trial-005.txt', 'data_us_exp-03_trial-006.txt', 'data_us_exp-03_trial-007.txt', 'data_us_exp-03_trial-008.txt', 'data_us_exp-03_trial-009.txt', 'data_us_exp-03_trial-010.txt', 'data_us_exp-03_trial-011.txt', 'data_us_exp-03_trial-012.txt', 'data_us_exp-03_trial-013.txt', 'data_us_exp-03_trial-014.txt', 'data_us_exp-03_trial-015.txt', 'data_us_exp-03_trial-016.txt', 'data_us_exp-03_trial-017.txt', 'data_us_exp-03_trial-018.txt', 'data_us_exp-03_trial-019.txt', 'data_us_exp-03_trial-020.txt', 'data_us_exp-03_trial-021.txt', 'data_us_exp-03_trial-022.txt', 'data_us_exp-03_trial-023.txt', 'data_us_exp-03_trial-024.txt', 'data_us_exp-03_trial-025.txt', 'data_us_exp-03_trial-026.txt', 'data_us_exp-03_trial-027.txt', 'data_us_exp-03_trial-028.txt', 'data_us_exp-03_trial-029.txt', 'data_us_exp-03_trial-030.txt', 'data_us_exp-03_trial-031.txt', 'data_us_exp-03_trial-032.txt', 'data_us_exp-03_trial-033.txt', 'data_us_exp-03_trial-034.txt', 'data_us_exp-03_trial-035.txt', 'data_us_exp-03_trial-036.txt', 'data_us_exp-03_trial-037.txt', 'data_us_exp-03_trial-038.txt', 'data_us_exp-03_trial-039.txt', 'data_us_exp-03_trial-040.txt', 'data_us_exp-03_trial-041.txt', 'data_us_exp-03_trial-042.txt', 'data_us_exp-03_trial-043.txt', 'data_us_exp-03_trial-044.txt', 'data_us_exp-03_trial-045.txt', 'data_us_exp-03_trial-046.txt', 'data_us_exp-03_trial-047.txt', 'data_us_exp-03_trial-048.txt', 'data_us_exp-03_trial-049.txt', 'data_us_exp-03_trial-050.txt']\n"
     ]
    }
   ],
   "source": [
    "countries = ['sg','gb','us']\n",
    "files = []\n",
    "for country in countries:\n",
    "    for n in range(1,4):\n",
    "        for i in range(1,51):\n",
    "            i = str(i)\n",
    "            while len(i) < 3:\n",
    "                i = '0' + i\n",
    "            files.append(f'data_{country}_exp-0{n}_trial-{i}.txt')\n",
    "print(files)"
   ]
  },
  {
   "cell_type": "markdown",
   "id": "bff45f61",
   "metadata": {},
   "source": [
    "## Exercise 2 :  Tutti frutti"
   ]
  },
  {
   "cell_type": "code",
   "execution_count": 25,
   "id": "a1082b09",
   "metadata": {},
   "outputs": [
    {
     "name": "stdout",
     "output_type": "stream",
     "text": [
      "True\n"
     ]
    }
   ],
   "source": [
    "fruits = [\"apple\", \"banana\", \"pineapple\", \"jackfruit\",\n",
    "        \"peach\", \"durian\", \"watermelon\", \"mango\",\n",
    "        \"strawberry\", \"passionfruit\"]\n",
    "print('mango' in  fruits) #1"
   ]
  },
  {
   "cell_type": "code",
   "execution_count": 26,
   "id": "f5ee5eab",
   "metadata": {},
   "outputs": [
    {
     "name": "stdout",
     "output_type": "stream",
     "text": [
      "ae\n",
      "ba\n",
      "pe\n",
      "jt\n",
      "ph\n",
      "dn\n",
      "wn\n",
      "mo\n",
      "sy\n",
      "pt\n"
     ]
    }
   ],
   "source": [
    "for fruit in fruits: #2\n",
    "    print(fruit[0] + fruit[-1])"
   ]
  },
  {
   "cell_type": "code",
   "execution_count": 27,
   "id": "3d3b1fd9",
   "metadata": {},
   "outputs": [
    {
     "name": "stdout",
     "output_type": "stream",
     "text": [
      "apple\n",
      "banana\n",
      "PINEAPPLE\n",
      "jackfruit\n",
      "PEACH\n",
      "durian\n",
      "watermelon\n",
      "mango\n",
      "strawberry\n",
      "PASSIONFRUIT\n"
     ]
    }
   ],
   "source": [
    "for fruit in fruits: #3\n",
    "    if fruit[0] == 'p':\n",
    "        print(fruit.upper())\n",
    "    else:\n",
    "        print(fruit.lower())"
   ]
  },
  {
   "cell_type": "code",
   "execution_count": 29,
   "id": "85f15bed",
   "metadata": {},
   "outputs": [
    {
     "name": "stdout",
     "output_type": "stream",
     "text": [
      "['apple', 'banana', 'pineapple', 'jackfruit', 'peach', 'durian', 'watermelon', 'mango', 'strawberry', 'passionfruit', 'dragon fruit', 'apricots', 'oranges']\n"
     ]
    }
   ],
   "source": [
    "fruits = [\"apple\", \"banana\", \"pineapple\", \"jackfruit\",\n",
    "        \"peach\", \"durian\", \"watermelon\", \"mango\",\n",
    "        \"strawberry\", \"passionfruit\"]\n",
    "new_fruits = [\"dragon fruit\", \"apricots\", \"oranges\"]\n",
    "fruits.extend(new_fruits)\n",
    "print(fruits) #4.1"
   ]
  },
  {
   "cell_type": "code",
   "execution_count": 28,
   "id": "54386cdd",
   "metadata": {},
   "outputs": [
    {
     "name": "stdout",
     "output_type": "stream",
     "text": [
      "['dragon fruit', 'apricots', 'oranges', 'apple', 'banana', 'pineapple', 'jackfruit', 'peach', 'durian', 'watermelon', 'mango', 'strawberry', 'passionfruit']\n"
     ]
    }
   ],
   "source": [
    "fruits = [\"apple\", \"banana\", \"pineapple\", \"jackfruit\",\n",
    "        \"peach\", \"durian\", \"watermelon\", \"mango\",\n",
    "        \"strawberry\", \"passionfruit\"]\n",
    "new_fruits = [\"dragon fruit\", \"apricots\", \"oranges\"]\n",
    "fruits = new_fruits + fruits\n",
    "print(fruits) #4.2, prepend whole list at once"
   ]
  },
  {
   "cell_type": "code",
   "execution_count": 29,
   "id": "83da8a8d",
   "metadata": {},
   "outputs": [
    {
     "name": "stdout",
     "output_type": "stream",
     "text": [
      "['oranges', 'apricots', 'dragon fruit', 'apple', 'banana', 'pineapple', 'jackfruit', 'peach', 'durian', 'watermelon', 'mango', 'strawberry', 'passionfruit']\n"
     ]
    }
   ],
   "source": [
    "fruits = [\"apple\", \"banana\", \"pineapple\", \"jackfruit\",\n",
    "        \"peach\", \"durian\", \"watermelon\", \"mango\",\n",
    "        \"strawberry\", \"passionfruit\"]\n",
    "new_fruits = [\"dragon fruit\", \"apricots\", \"oranges\"]\n",
    "fruits = new_fruits[::-1] + fruits\n",
    "print(fruits) #4.2, prepend in order of appearance in list"
   ]
  },
  {
   "cell_type": "code",
   "execution_count": 30,
   "id": "3617a248",
   "metadata": {},
   "outputs": [
    {
     "name": "stdout",
     "output_type": "stream",
     "text": [
      "['apple', 'banana', 'pineapple', 'jackfruit', 'peach', 'dragon fruit', 'apricots', 'oranges', 'durian', 'watermelon', 'mango', 'strawberry', 'passionfruit']\n"
     ]
    }
   ],
   "source": [
    "fruits = [\"apple\", \"banana\", \"pineapple\", \"jackfruit\",\n",
    "        \"peach\", \"durian\", \"watermelon\", \"mango\",\n",
    "        \"strawberry\", \"passionfruit\"]\n",
    "new_fruits = [\"dragon fruit\", \"apricots\", \"oranges\"]\n",
    "fruits = fruits[:len(fruits)//2] + new_fruits + fruits[len(fruits)//2:]\n",
    "print(fruits) #4.3"
   ]
  },
  {
   "cell_type": "code",
   "execution_count": 31,
   "id": "75243038",
   "metadata": {},
   "outputs": [
    {
     "name": "stdout",
     "output_type": "stream",
     "text": [
      "['pineapple', 'jackfruit', 'dragon fruit', 'watermelon', 'strawberry', 'passionfruit']\n"
     ]
    }
   ],
   "source": [
    "frfr = [fruit for fruit in fruits if len(fruit)>8]\n",
    "print(frfr) #5"
   ]
  },
  {
   "cell_type": "markdown",
   "id": "5488881f",
   "metadata": {},
   "source": [
    "## Exercise 3 :  Ciao Fibonacci"
   ]
  },
  {
   "cell_type": "code",
   "execution_count": 42,
   "id": "4a7127b1",
   "metadata": {},
   "outputs": [
    {
     "name": "stdout",
     "output_type": "stream",
     "text": [
      "[0, 1, 1, 2, 3, 5, 8, 13, 21, 34, 55, 89, 144, 233, 377]\n"
     ]
    }
   ],
   "source": [
    "fibonacci = [0,1]\n",
    "for n in range(13):\n",
    "    fibonacci += [fibonacci[-1]+fibonacci[-2]]\n",
    "print(fibonacci)"
   ]
  },
  {
   "cell_type": "markdown",
   "id": "21279098",
   "metadata": {},
   "source": [
    "## Exercise 4 :  A function for Fibonacci"
   ]
  },
  {
   "cell_type": "code",
   "execution_count": 45,
   "id": "6a7439ff",
   "metadata": {},
   "outputs": [
    {
     "name": "stdout",
     "output_type": "stream",
     "text": [
      "[0, 1, 1, 2, 3, 5, 8, 13, 21, 34, 55, 89, 144, 233, 377]\n"
     ]
    }
   ],
   "source": [
    "def fibonacci(n):\n",
    "    if n == 0:\n",
    "        return 0\n",
    "    elif n == 1:\n",
    "        return 1\n",
    "    else:\n",
    "        return fibonacci(n-1) + fibonacci(n-2)\n",
    "    \n",
    "print([fibonacci(n) for n in range(15)])"
   ]
  },
  {
   "cell_type": "markdown",
   "id": "ddc892d9",
   "metadata": {},
   "source": [
    "## Exercise 5 :  max_info() without NumPy"
   ]
  },
  {
   "cell_type": "code",
   "execution_count": 47,
   "id": "163bf5c1",
   "metadata": {},
   "outputs": [
    {
     "name": "stdout",
     "output_type": "stream",
     "text": [
      "[83, 2]\n"
     ]
    }
   ],
   "source": [
    "def max_info(numbers):\n",
    "    my_max = numbers[0]\n",
    "    index = 0\n",
    "    for i in range(len(numbers)):\n",
    "        if numbers[i] > my_max:\n",
    "            my_max = numbers[i]\n",
    "            index = i\n",
    "    return [my_max, index]\n",
    "\n",
    "numbers = [40, 27, 83, 44, 74, 51, 76, 77, 10, 49]\n",
    "print(max_info(numbers))"
   ]
  },
  {
   "cell_type": "markdown",
   "id": "35fe320c",
   "metadata": {},
   "source": [
    "## Exercise 6 :  Take count"
   ]
  },
  {
   "cell_type": "code",
   "execution_count": 15,
   "id": "5d460ae8",
   "metadata": {},
   "outputs": [],
   "source": [
    "import numpy as np\n",
    "DNA = 'AGGCAAGAAGCTAGAATTCTGGCCTGAGTATCTCAGTACAGGCGCAGTCGAATCTTCCGGAATCACATTGCTCGCGCTTAAACCCGCTCTAAACCTTTGAGTAATTCGACGACATTGGGTTCCCTCCGACGCTGTCTGACAACTCTTTAAGATCCTTGGCACGATGTCGATAGACATTGTCCCTGATGACGCCTCACAAGGTAACCTGGCTCTAGTAGGGTGGTCTTTGCTGCGGAACTTACCACCTGGTGGATCCAAGCACCAGAGGAGTTCGAAGAGGCTGGGGTACCCCCTATTTAGGAAGGGCGAGACTACGGTCACAAATTCCAAATGGCTTCCCTCGATTCATGACGCCAGAATGCCTGGCTGTGCCAATTTGTCGCCTTGCGTCGTTCTGTCAATCTTTACTCGTGTCGTGTTGTGATAAATGACAAACCCTGCACAACGTAGGGCTCACACAAGGGAATCTAGAGTATCCGATACAGGGAGCTTTAGCTTCCGTCCCTTATAGCCTGCCATATTCTTGCGGTAGCACGAGCCTCAGATCTTCTCACTCCGGAAATGGGAGCTTCGACGGTCAAGGGCTAAGACGTCTTCGGGAGAAATACCTAGGCGATGACCCTGAGTGGTTTTCCGCGTATAACTCATCCTGGTTGCAAATGATTACCGTTATAGCCTGGGGATATGCCTCAATTCCGAACCCAGGAGCATCACTCGAGCAATAGCGGTAAAGGAGGCTATTAGCAAAATTGTCACGATAAGCGCCGTTGTAGTGAAATTAAGATACATACATCGTTTAGCACATCACTCTCACGGCGTCTAGAAGCTGATCTTCATATGCTGACTCAGAAGGCTCGGATAATAGAGGACGAAGGTAGTTTACTCATCGCTGCCCCGACTATTACGTGTGCATGATAAAGTCTGACCCTGACGTTCCCAAGCCGAGGCAGAGGGGTTTTACGCTGAATGTCCGCTCTCTGTCGGATGATTTCGGAAGCTG'"
   ]
  },
  {
   "cell_type": "code",
   "execution_count": 20,
   "id": "75871249",
   "metadata": {},
   "outputs": [
    {
     "name": "stdout",
     "output_type": "stream",
     "text": [
      "A GG C AA G AA G C T A G AA TT C T GG CC T G A G T A T C T C A G T A C A GG C G C A G T C G AA T C TT CC GG AA T C A C A TT G C T C G C G C TT AA A CC C G C T C T AA A CC TT T G A G T AA TT C G A C G A C A TT GG G TT CC C T CC G A C G C T G T C T G A C AA C T C TT T AA G A T CC TT GG C A C G A T G T C G A T A G A C A TT G T CC C T G A T G A C G CC T C A C AA GG T AA CC T GG C T C T A G T A GG G T GG T C TT T G C T G C GG AA C TT A CC A CC T GG T GG A T CC AA G C A CC A G A GG A G TT C G AA G A GG C T GG GG T A CC CC C T A TT T A GG AA GG G C G A G A C T A C GG T C A C AA A TT CC AA A T GG C TT CC C T C G A TT C A T G A C G CC A G AA T G CC T GG C T G T G CC AA TT T G T C G CC TT G C G T C G TT C T G T C AA T C TT T A C T C G T G T C G T G TT G T G A T AA A T G A C AA A CC C T G C A C AA C G T A GG G C T C A C A C AA GG G AA T C T A G A G T A T CC G A T A C A GG G A G C TT T A G C TT CC G T CC C TT A T A G CC T G CC A T A TT C TT G C GG T A G C A C G A G CC T C A G A T C TT C T C A C T CC GG AA A T GG G A G C TT C G A C GG T C AA GG G C T AA G A C G T C TT C GG G A G AA A T A CC T A GG C G A T G A CC C T G A G T GG TT TT CC G C G T A T AA C T C A T CC T GG TT G C AA A T G A TT A CC G TT A T A G CC T GG GG A T A T G CC T C AA TT CC G AA CC C A GG A G C A T C A C T C G A G C AA T A G C GG T AA A GG A GG C T A TT A G C AA AA TT G T C A C G A T AA G C G CC G TT G T A G T G AA A TT AA G A T A C A T A C A T C G TT T A G C A C A T C A C T C T C A C GG C G T C T A G AA G C T G A T C TT C A T A T G C T G A C T C A G AA GG C T C GG A T AA T A G A GG A C G AA GG T A G TT T A C T C A T C G C T G CC CC G A C T A TT A C G T G T G C A T G A T AA A G T C T G A CC C T G A C G TT CC C AA G CC G A GG C A G A GG GG TT TT A C G C T G AA T G T CC G C T C T C T G T C GG A T G A TT T C GG AA G C T G\n"
     ]
    }
   ],
   "source": [
    "#1\n",
    "DNA_split = ''\n",
    "prev = DNA[0]\n",
    "for i in range(1,len(DNA)):\n",
    "    if prev == DNA[i]:\n",
    "        prev += DNA[i]\n",
    "    else:\n",
    "        DNA_split += prev\n",
    "        DNA_split += ' '\n",
    "        prev = DNA[i]\n",
    "DNA_split += prev\n",
    "print(DNA_split)"
   ]
  },
  {
   "cell_type": "code",
   "execution_count": 8,
   "id": "e2ea5226",
   "metadata": {},
   "outputs": [
    {
     "name": "stdout",
     "output_type": "stream",
     "text": [
      "254\n"
     ]
    }
   ],
   "source": [
    "#2\n",
    "count = 0\n",
    "for letter in DNA:\n",
    "    if letter == 'T':\n",
    "        count += 1\n",
    "print(count)"
   ]
  },
  {
   "cell_type": "code",
   "execution_count": 10,
   "id": "3f211d52",
   "metadata": {},
   "outputs": [
    {
     "name": "stdout",
     "output_type": "stream",
     "text": [
      "254\n"
     ]
    }
   ],
   "source": [
    "#3\n",
    "T_series = [t for t in DNA if t == 'T']\n",
    "print(len(T_series))"
   ]
  },
  {
   "cell_type": "code",
   "execution_count": 14,
   "id": "c4d10f3e",
   "metadata": {},
   "outputs": [
    {
     "name": "stdout",
     "output_type": "stream",
     "text": [
      "{'A': 247, 'G': 249, 'C': 250, 'T': 254}\n"
     ]
    }
   ],
   "source": [
    "#4\n",
    "count = {}\n",
    "for letter in DNA:\n",
    "    if letter not in count:\n",
    "        count[letter] = 1\n",
    "    else:\n",
    "        count[letter] += 1\n",
    "print(count)"
   ]
  },
  {
   "cell_type": "code",
   "execution_count": 19,
   "id": "d2da7640",
   "metadata": {},
   "outputs": [
    {
     "name": "stdout",
     "output_type": "stream",
     "text": [
      "['A' 'C' 'G' 'T']\n",
      "[247 250 249 254]\n"
     ]
    }
   ],
   "source": [
    "#5\n",
    "letters, counts = np.unique(np.array(list(DNA)), return_counts=True)\n",
    "print(letters)\n",
    "print(counts)"
   ]
  },
  {
   "cell_type": "code",
   "execution_count": 24,
   "id": "32dcab9a",
   "metadata": {},
   "outputs": [
    {
     "name": "stdout",
     "output_type": "stream",
     "text": [
      "['AGGC', 'AAGA', 'AGCT', 'AGAA', 'TTCT', 'GGCC', 'TGAG', 'TATC', 'TCAG', 'TACA', 'GGCG', 'CAGT', 'CGAA', 'TCTT', 'CCGG', 'AATC', 'ACAT', 'TGCT', 'CGCG', 'CTTA', 'AACC', 'CGCT', 'CTAA', 'ACCT', 'TTGA', 'GTAA', 'TTCG', 'ACGA', 'CATT', 'GGGT', 'TCCC', 'TCCG', 'ACGC', 'TGTC', 'TGAC', 'AACT', 'CTTT', 'AAGA', 'TCCT', 'TGGC', 'ACGA', 'TGTC', 'GATA', 'GACA', 'TTGT', 'CCCT', 'GATG', 'ACGC', 'CTCA', 'CAAG', 'GTAA', 'CCTG', 'GCTC', 'TAGT', 'AGGG', 'TGGT', 'CTTT', 'GCTG', 'CGGA', 'ACTT', 'ACCA', 'CCTG', 'GTGG', 'ATCC', 'AAGC', 'ACCA', 'GAGG', 'AGTT', 'CGAA', 'GAGG', 'CTGG', 'GGTA', 'CCCC', 'CTAT', 'TTAG', 'GAAG', 'GGCG', 'AGAC', 'TACG', 'GTCA', 'CAAA', 'TTCC', 'AAAT', 'GGCT', 'TCCC', 'TCGA', 'TTCA', 'TGAC', 'GCCA', 'GAAT', 'GCCT', 'GGCT', 'GTGC', 'CAAT', 'TTGT', 'CGCC', 'TTGC', 'GTCG', 'TTCT', 'GTCA', 'ATCT', 'TTAC', 'TCGT', 'GTCG', 'TGTT', 'GTGA', 'TAAA', 'TGAC', 'AAAC', 'CCTG', 'CACA', 'ACGT', 'AGGG', 'CTCA', 'CACA', 'AGGG', 'AATC', 'TAGA', 'GTAT', 'CCGA', 'TACA', 'GGGA', 'GCTT', 'TAGC', 'TTCC', 'GTCC', 'CTTA', 'TAGC', 'CTGC', 'CATA', 'TTCT', 'TGCG', 'GTAG', 'CACG', 'AGCC', 'TCAG', 'ATCT', 'TCTC', 'ACTC', 'CGGA', 'AATG', 'GGAG', 'CTTC', 'GACG', 'GTCA', 'AGGG', 'CTAA', 'GACG', 'TCTT', 'CGGG', 'AGAA', 'ATAC', 'CTAG', 'GCGA', 'TGAC', 'CCTG', 'AGTG', 'GTTT', 'TCCG', 'CGTA', 'TAAC', 'TCAT', 'CCTG', 'GTTG', 'CAAA', 'TGAT', 'TACC', 'GTTA', 'TAGC', 'CTGG', 'GGAT', 'ATGC', 'CTCA', 'ATTC', 'CGAA', 'CCCA', 'GGAG', 'CATC', 'ACTC', 'GAGC', 'AATA', 'GCGG', 'TAAA', 'GGAG', 'GCTA', 'TTAG', 'CAAA', 'ATTG', 'TCAC', 'GATA', 'AGCG', 'CCGT', 'TGTA', 'GTGA', 'AATT', 'AAGA', 'TACA', 'TACA', 'TCGT', 'TTAG', 'CACA', 'TCAC', 'TCTC', 'ACGG', 'CGTC', 'TAGA', 'AGCT', 'GATC', 'TTCA', 'TATG', 'CTGA', 'CTCA', 'GAAG', 'GCTC', 'GGAT', 'AATA', 'GAGG', 'ACGA', 'AGGT', 'AGTT', 'TACT', 'CATC', 'GCTG', 'CCCC', 'GACT', 'ATTA', 'CGTG', 'TGCA', 'TGAT', 'AAAG', 'TCTG', 'ACCC', 'TGAC', 'GTTC', 'CCAA', 'GCCG', 'AGGC', 'AGAG', 'GGGT', 'TTTA', 'CGCT', 'GAAT', 'GTCC', 'GCTC', 'TCTG', 'TCGG', 'ATGA', 'TTTC', 'GGAA', 'GCTG']\n"
     ]
    }
   ],
   "source": [
    "#6\n",
    "split = []\n",
    "while len(DNA) > 4:\n",
    "    split.append(DNA[:4])\n",
    "    DNA = DNA[4:]\n",
    "split.append(DNA)\n",
    "print(split)"
   ]
  }
 ],
 "metadata": {
  "kernelspec": {
   "display_name": "Python 3 (ipykernel)",
   "language": "python",
   "name": "python3"
  },
  "language_info": {
   "codemirror_mode": {
    "name": "ipython",
    "version": 3
   },
   "file_extension": ".py",
   "mimetype": "text/x-python",
   "name": "python",
   "nbconvert_exporter": "python",
   "pygments_lexer": "ipython3",
   "version": "3.10.8"
  },
  "toc": {
   "base_numbering": 1,
   "nav_menu": {},
   "number_sections": true,
   "sideBar": true,
   "skip_h1_title": false,
   "title_cell": "Table of Contents",
   "title_sidebar": "Contents",
   "toc_cell": false,
   "toc_position": {},
   "toc_section_display": true,
   "toc_window_display": false
  },
  "vscode": {
   "interpreter": {
    "hash": "31f2aee4e71d21fbe5cf8b01ff0e069b9275f58929596ceb00d14d90e3e16cd6"
   }
  }
 },
 "nbformat": 4,
 "nbformat_minor": 5
}
