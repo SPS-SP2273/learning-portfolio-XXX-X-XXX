{
 "cells": [
  {
   "cell_type": "markdown",
   "id": "123456",
   "metadata": {},
   "source": [
    "<div style=\"text-align:left;font-size:2em\"><span style=\"font-weight:bolder;font-size:1.25em\">SP2273 | Learning Portfolio</span><br><br><span style=\"font-weight:bold;color:darkred\">Random Numbers (Nice)</span></div>"
   ]
  },
  {
   "cell_type": "markdown",
   "id": "666f29c0",
   "metadata": {},
   "source": [
    "## 1 MC strategy for integration"
   ]
  },
  {
   "cell_type": "markdown",
   "id": "3471fbab",
   "metadata": {},
   "source": [
    "## Explore 3 :  Monte Carlo Integration"
   ]
  },
  {
   "cell_type": "code",
   "execution_count": 18,
   "id": "21233d3d",
   "metadata": {},
   "outputs": [
    {
     "name": "stdout",
     "output_type": "stream",
     "text": [
      "5.9208143006145155e-31\n",
      "4.32\n",
      "4.038\n",
      "4.1076\n",
      "4.06428\n",
      "4.061208000000001\n"
     ]
    }
   ],
   "source": [
    "from matplotlib import pyplot as plt\n",
    "import numpy as np\n",
    "def function(x):\n",
    "    return (x**2)*(np.sin(2*x))**2\n",
    "def mc_int(n=100,xleft=2,xright=3,ybottom=0,ytop=6,f=function):\n",
    "    nbelow = 0\n",
    "    area = abs(xright-xleft)*abs(ytop-ybottom)\n",
    "    for i in range(n):\n",
    "        px = np.random.uniform(xleft,xright)\n",
    "        py = np.random.uniform(ybottom,ytop)\n",
    "        if py <= f(px):\n",
    "            nbelow+= 1\n",
    "    return (nbelow/n)*area\n",
    "print(function(np.pi)) #Checking if function is working, Calculator gives 0\n",
    "print(mc_int())\n",
    "print(mc_int(1000))\n",
    "print(mc_int(10000))\n",
    "print(mc_int(100000))\n",
    "print(mc_int(1000000)) #Value becomes more accurate and less variation as n increases"
   ]
  },
  {
   "cell_type": "markdown",
   "id": "f2851974",
   "metadata": {},
   "source": [
    "## 2 Another MC strategy for integration"
   ]
  },
  {
   "cell_type": "markdown",
   "id": "92138f6b",
   "metadata": {},
   "source": [
    "### 2.1 Some theory"
   ]
  },
  {
   "cell_type": "code",
   "execution_count": null,
   "id": "3b9ac03d",
   "metadata": {},
   "outputs": [],
   "source": [
    "\n",
    "# Your code here\n"
   ]
  },
  {
   "cell_type": "markdown",
   "id": "b56f3d8f",
   "metadata": {},
   "source": [
    "## Explore 4 :  Integration with an estimator"
   ]
  },
  {
   "cell_type": "code",
   "execution_count": 27,
   "id": "e6e7b558",
   "metadata": {},
   "outputs": [
    {
     "name": "stdout",
     "output_type": "stream",
     "text": [
      "4.0421184377533645\n",
      "4.021135398234656\n",
      "4.066231531903738\n",
      "4.063328166348286\n",
      "4.0642307210794435\n"
     ]
    }
   ],
   "source": [
    "def mc_est(n=100,xleft=2,xright=3,f=function):\n",
    "    total_x = 0\n",
    "    for i in range(n-1):\n",
    "        total_x += f(np.random.uniform(xleft,xright))\n",
    "    return (xright-xleft)*(1/n)*total_x\n",
    "\n",
    "print(mc_est())\n",
    "print(mc_est(1000))\n",
    "print(mc_est(10000))\n",
    "print(mc_est(100000))\n",
    "print(mc_est(1000000)) #Seems slightly faster and more accurate, but variation still bad at lower values of n"
   ]
  },
  {
   "cell_type": "code",
   "execution_count": 28,
   "id": "5ede0543",
   "metadata": {},
   "outputs": [
    {
     "name": "stdout",
     "output_type": "stream",
     "text": [
      "1.05 ms ± 21.8 µs per loop (mean ± std. dev. of 7 runs, 1,000 loops each)\n"
     ]
    }
   ],
   "source": [
    "%timeit mc_est()"
   ]
  },
  {
   "cell_type": "code",
   "execution_count": 29,
   "id": "afcb9020",
   "metadata": {},
   "outputs": [
    {
     "name": "stdout",
     "output_type": "stream",
     "text": [
      "1.65 ms ± 32.9 µs per loop (mean ± std. dev. of 7 runs, 1,000 loops each)\n"
     ]
    }
   ],
   "source": [
    "timeit mc_int()"
   ]
  }
 ],
 "metadata": {
  "kernelspec": {
   "display_name": "Python 3 (ipykernel)",
   "language": "python",
   "name": "python3"
  },
  "language_info": {
   "codemirror_mode": {
    "name": "ipython",
    "version": 3
   },
   "file_extension": ".py",
   "mimetype": "text/x-python",
   "name": "python",
   "nbconvert_exporter": "python",
   "pygments_lexer": "ipython3",
   "version": "3.10.8"
  },
  "toc": {
   "base_numbering": 1,
   "nav_menu": {},
   "number_sections": true,
   "sideBar": true,
   "skip_h1_title": false,
   "title_cell": "Table of Contents",
   "title_sidebar": "Contents",
   "toc_cell": false,
   "toc_position": {},
   "toc_section_display": true,
   "toc_window_display": false
  },
  "vscode": {
   "interpreter": {
    "hash": "31f2aee4e71d21fbe5cf8b01ff0e069b9275f58929596ceb00d14d90e3e16cd6"
   }
  }
 },
 "nbformat": 4,
 "nbformat_minor": 5
}
