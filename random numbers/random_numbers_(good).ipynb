{
 "cells": [
  {
   "cell_type": "markdown",
   "id": "123456",
   "metadata": {},
   "source": [
    "<div style=\"text-align:left;font-size:2em\"><span style=\"font-weight:bolder;font-size:1.25em\">SP2273 | Learning Portfolio</span><br><br><span style=\"font-weight:bold;color:darkred\">Random Numbers (Good)</span></div>"
   ]
  },
  {
   "cell_type": "markdown",
   "id": "4de06cb5",
   "metadata": {},
   "source": [
    "## 1 Random numbers from other distributions"
   ]
  },
  {
   "cell_type": "markdown",
   "id": "55062c0c",
   "metadata": {},
   "source": [
    "### 1.1 Random numbers from the Normal distribution"
   ]
  },
  {
   "cell_type": "code",
   "execution_count": null,
   "id": "bd8fa8b4",
   "metadata": {},
   "outputs": [],
   "source": [
    "\n",
    "# Your code here\n"
   ]
  },
  {
   "cell_type": "markdown",
   "id": "2702ee74",
   "metadata": {},
   "source": [
    "### 1.2 Visualising the random numbers"
   ]
  },
  {
   "cell_type": "code",
   "execution_count": null,
   "id": "f9045f91",
   "metadata": {},
   "outputs": [],
   "source": [
    "\n",
    "# Your code here\n"
   ]
  },
  {
   "cell_type": "markdown",
   "id": "c0299179",
   "metadata": {},
   "source": [
    "### 1.3 68%?"
   ]
  },
  {
   "cell_type": "code",
   "execution_count": null,
   "id": "ea3579d2",
   "metadata": {},
   "outputs": [],
   "source": [
    "\n",
    "# Your code here\n"
   ]
  },
  {
   "cell_type": "markdown",
   "id": "49a3e8e6",
   "metadata": {},
   "source": [
    "## 1 Brownian Motion in 1D"
   ]
  },
  {
   "cell_type": "markdown",
   "id": "180e58a7",
   "metadata": {},
   "source": [
    "### 1.1 The scenario"
   ]
  },
  {
   "cell_type": "code",
   "execution_count": null,
   "id": "612fce9a",
   "metadata": {},
   "outputs": [],
   "source": [
    "\n",
    "# Your code here\n"
   ]
  },
  {
   "cell_type": "markdown",
   "id": "f4dad3ac",
   "metadata": {},
   "source": [
    "### 1.2 The simulation"
   ]
  },
  {
   "cell_type": "code",
   "execution_count": null,
   "id": "28bcbc92",
   "metadata": {},
   "outputs": [],
   "source": [
    "\n",
    "# Your code here\n"
   ]
  },
  {
   "cell_type": "markdown",
   "id": "2e565d1d",
   "metadata": {},
   "source": [
    "### 1.3 What does theory say?"
   ]
  },
  {
   "cell_type": "code",
   "execution_count": null,
   "id": "dc8f8a65",
   "metadata": {},
   "outputs": [],
   "source": [
    "\n",
    "# Your code here\n"
   ]
  },
  {
   "cell_type": "markdown",
   "id": "459ed975",
   "metadata": {},
   "source": [
    "## 2 Estimating \\(\\pi\\)"
   ]
  },
  {
   "cell_type": "markdown",
   "id": "6c319236",
   "metadata": {},
   "source": [
    "### 2.1 The method"
   ]
  },
  {
   "cell_type": "code",
   "execution_count": null,
   "id": "bf4070db",
   "metadata": {},
   "outputs": [],
   "source": [
    "\n",
    "# Your code here\n"
   ]
  },
  {
   "cell_type": "markdown",
   "id": "8d8d80e6",
   "metadata": {},
   "source": [
    "### 2.2 A poor but intuitive solution"
   ]
  },
  {
   "cell_type": "code",
   "execution_count": null,
   "id": "5dd9b859",
   "metadata": {},
   "outputs": [],
   "source": [
    "\n",
    "# Your code here\n"
   ]
  },
  {
   "cell_type": "markdown",
   "id": "9b5789f3",
   "metadata": {},
   "source": [
    "### 2.3 A better solution"
   ]
  },
  {
   "cell_type": "code",
   "execution_count": null,
   "id": "b5e96a16",
   "metadata": {},
   "outputs": [],
   "source": [
    "\n",
    "# Your code here\n"
   ]
  },
  {
   "cell_type": "markdown",
   "id": "70f8ea6d",
   "metadata": {},
   "source": [
    "### 2.4 A smarter solution"
   ]
  },
  {
   "cell_type": "code",
   "execution_count": null,
   "id": "6666c98b",
   "metadata": {},
   "outputs": [],
   "source": [
    "\n",
    "# Your code here\n"
   ]
  },
  {
   "cell_type": "markdown",
   "id": "2f245641",
   "metadata": {},
   "source": [
    "## Exercise 1 :  Vital Stats of Random π"
   ]
  },
  {
   "cell_type": "code",
   "execution_count": 1,
   "id": "26541d37",
   "metadata": {},
   "outputs": [
    {
     "name": "stdout",
     "output_type": "stream",
     "text": [
      "3.1413919999999997 0.016508468614623215\n"
     ]
    }
   ],
   "source": [
    "import numpy as np\n",
    "def estimate_pi(n=10000):\n",
    "    x = np.random.rand(n)\n",
    "    y = np.random.rand(n)\n",
    "    a = np.sum((x**2 + y**2) <= 1)\n",
    "    return 4*(a/n)\n",
    "stats = [estimate_pi() for i in range(100)]\n",
    "print(np.mean(stats), np.std(stats)) #mean and standard dev for n == 100"
   ]
  },
  {
   "cell_type": "code",
   "execution_count": 3,
   "id": "3eb529d4",
   "metadata": {},
   "outputs": [
    {
     "name": "stdout",
     "output_type": "stream",
     "text": [
      "[[3.08, 0.5381449618829485], [3.1004, 0.16795189787555245], [3.14108, 0.057192600920049096], [3.1402039999999993, 0.016991620993889903], [3.1413687999999995, 0.005596151763488894], [3.1419632, 0.0016021032176486104]]\n"
     ]
    }
   ],
   "source": [
    "l = []\n",
    "l_stats = []\n",
    "n = []\n",
    "for i in range(1,7):\n",
    "    n.append(10**i)\n",
    "for i in n:\n",
    "    est = [estimate_pi(i) for a in range(100)]\n",
    "    l.append(est)\n",
    "    stat = [np.mean(est), np.std(est)]\n",
    "    l_stats.append(stat)\n",
    "print(l_stats)"
   ]
  },
  {
   "cell_type": "code",
   "execution_count": 4,
   "id": "3e1e546d",
   "metadata": {},
   "outputs": [
    {
     "name": "stdout",
     "output_type": "stream",
     "text": [
      "[10, 100, 1000, 10000, 100000, 1000000] [3.08, 3.1004, 3.14108, 3.1402039999999993, 3.1413687999999995, 3.1419632] [0.5381449618829485, 0.16795189787555245, 0.057192600920049096, 0.016991620993889903, 0.005596151763488894, 0.0016021032176486104]\n"
     ]
    }
   ],
   "source": [
    "from matplotlib import pyplot as plt\n",
    "x = n\n",
    "y = [mean for mean, std in l_stats]\n",
    "err = [std for mean, std in l_stats]\n",
    "\n",
    "print(x, y, err)"
   ]
  },
  {
   "cell_type": "code",
   "execution_count": 14,
   "id": "720e19d2",
   "metadata": {},
   "outputs": [
    {
     "data": {
      "image/png": "[encoded data removed]",
      "text/plain": [
       "<Figure size 640x480 with 1 Axes>"
      ]
     },
     "metadata": {},
     "output_type": "display_data"
    }
   ],
   "source": [
    "plt.errorbar(x, y, yerr=err, color='r', label='Std. Dev. of $\\pi$ values', fmt='o')\n",
    "plt.plot(x, [np.pi for i in x], color='r', linestyle='--', label='Real $\\pi$')\n",
    "plt.xscale('log')\n",
    "plt.xlabel('No. of points used to generate value')\n",
    "plt.ylabel(f'Value of {np.pi}')\n",
    "plt.legend(loc='upper right')\n",
    "plt.title('Value of $\\pi$ vs. No. of Points Used')\n",
    "plt.show()"
   ]
  }
 ],
 "metadata": {
  "kernelspec": {
   "display_name": "Python 3 (ipykernel)",
   "language": "python",
   "name": "python3"
  },
  "language_info": {
   "codemirror_mode": {
    "name": "ipython",
    "version": 3
   },
   "file_extension": ".py",
   "mimetype": "text/x-python",
   "name": "python",
   "nbconvert_exporter": "python",
   "pygments_lexer": "ipython3",
   "version": "3.10.8"
  },
  "toc": {
   "base_numbering": 1,
   "nav_menu": {},
   "number_sections": true,
   "sideBar": true,
   "skip_h1_title": false,
   "title_cell": "Table of Contents",
   "title_sidebar": "Contents",
   "toc_cell": false,
   "toc_position": {},
   "toc_section_display": true,
   "toc_window_display": false
  },
  "vscode": {
   "interpreter": {
    "hash": "31f2aee4e71d21fbe5cf8b01ff0e069b9275f58929596ceb00d14d90e3e16cd6"
   }
  }
 },
 "nbformat": 4,
 "nbformat_minor": 5
}
