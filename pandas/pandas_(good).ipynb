{
 "cells": [
  {
   "cell_type": "markdown",
   "id": "123456",
   "metadata": {},
   "source": [
    "<div style=\"text-align:left;font-size:2em\"><span style=\"font-weight:bolder;font-size:1.25em\">SP2273 | Learning Portfolio</span><br><br><span style=\"font-weight:bold;color:darkred\">Pandas (Good)</span></div>"
   ]
  },
  {
   "cell_type": "markdown",
   "id": "7a6ae251",
   "metadata": {},
   "source": [
    "## 1 Missing data"
   ]
  },
  {
   "cell_type": "markdown",
   "id": "3667020e",
   "metadata": {},
   "source": [
    "### 1.1 All missing data"
   ]
  },
  {
   "cell_type": "code",
   "execution_count": null,
   "id": "864727fb",
   "metadata": {},
   "outputs": [],
   "source": [
    "\n",
    "# Your code here\n"
   ]
  },
  {
   "cell_type": "markdown",
   "id": "d5e780bc",
   "metadata": {},
   "source": [
    "### 1.2 Columns and rows of the missing data"
   ]
  },
  {
   "cell_type": "code",
   "execution_count": null,
   "id": "006d3921",
   "metadata": {},
   "outputs": [],
   "source": [
    "\n",
    "# Your code here\n"
   ]
  },
  {
   "cell_type": "markdown",
   "id": "5bf0ca9a",
   "metadata": {},
   "source": [
    "### 1.3 More details of the missing numbers"
   ]
  },
  {
   "cell_type": "code",
   "execution_count": null,
   "id": "719dac13",
   "metadata": {},
   "outputs": [],
   "source": [
    "\n",
    "# Your code here\n"
   ]
  },
  {
   "cell_type": "markdown",
   "id": "5e9cea4e",
   "metadata": {},
   "source": [
    "### 1.4 Dealing with missing numbers?"
   ]
  },
  {
   "cell_type": "code",
   "execution_count": null,
   "id": "f3087fa0",
   "metadata": {},
   "outputs": [],
   "source": [
    "\n",
    "# Your code here\n"
   ]
  },
  {
   "cell_type": "markdown",
   "id": "13fd0d08",
   "metadata": {},
   "source": [
    "### 1.5 Itterating over a dataframe"
   ]
  },
  {
   "cell_type": "code",
   "execution_count": null,
   "id": "19521ee0",
   "metadata": {},
   "outputs": [],
   "source": [
    "\n",
    "# Your code here\n"
   ]
  },
  {
   "cell_type": "markdown",
   "id": "7e62199b",
   "metadata": {},
   "source": [
    "## 2 Combining dataframes"
   ]
  },
  {
   "cell_type": "markdown",
   "id": "af1d2b4e",
   "metadata": {},
   "source": [
    "### 2.1 The complete recipe"
   ]
  },
  {
   "cell_type": "code",
   "execution_count": null,
   "id": "0509fea3",
   "metadata": {},
   "outputs": [],
   "source": [
    "\n",
    "# Your code here\n"
   ]
  },
  {
   "cell_type": "markdown",
   "id": "dfc6be3b",
   "metadata": {},
   "source": [
    "## 3 Plotting directly from Pandas"
   ]
  },
  {
   "cell_type": "markdown",
   "id": "09c5711e",
   "metadata": {},
   "source": [
    "### 3.1 Barcharts"
   ]
  },
  {
   "cell_type": "code",
   "execution_count": null,
   "id": "bdb6d6d7",
   "metadata": {},
   "outputs": [],
   "source": [
    "\n",
    "# Your code here\n"
   ]
  },
  {
   "cell_type": "markdown",
   "id": "654c9ac0",
   "metadata": {},
   "source": [
    "### 3.2 Histograms"
   ]
  },
  {
   "cell_type": "code",
   "execution_count": null,
   "id": "6ff1f668",
   "metadata": {},
   "outputs": [],
   "source": [
    "\n",
    "# Your code here\n"
   ]
  },
  {
   "cell_type": "markdown",
   "id": "5a1c33f7",
   "metadata": {},
   "source": [
    "### 3.3 Pie"
   ]
  },
  {
   "cell_type": "code",
   "execution_count": null,
   "id": "8d3df960",
   "metadata": {},
   "outputs": [],
   "source": [
    "\n",
    "# Your code here\n"
   ]
  },
  {
   "cell_type": "markdown",
   "id": "8e45c43c",
   "metadata": {},
   "source": [
    "### 3.4 Boxplots"
   ]
  },
  {
   "cell_type": "code",
   "execution_count": null,
   "id": "9a988b41",
   "metadata": {},
   "outputs": [],
   "source": [
    "\n",
    "# Your code here\n"
   ]
  },
  {
   "cell_type": "markdown",
   "id": "539dbf47",
   "metadata": {},
   "source": [
    "## Exercise 1 :  Oh no! Yet another class!"
   ]
  },
  {
   "cell_type": "code",
   "execution_count": 1,
   "id": "b1117d28",
   "metadata": {},
   "outputs": [],
   "source": [
    "import pandas as pd\n",
    "import numpy as np"
   ]
  },
  {
   "cell_type": "code",
   "execution_count": 21,
   "id": "48d499e4",
   "metadata": {},
   "outputs": [
    {
     "data": {
      "text/html": [
       "<div>\n",
       "<style scoped>\n",
       "    .dataframe tbody tr th:only-of-type {\n",
       "        vertical-align: middle;\n",
       "    }\n",
       "\n",
       "    .dataframe tbody tr th {\n",
       "        vertical-align: top;\n",
       "    }\n",
       "\n",
       "    .dataframe thead th {\n",
       "        text-align: right;\n",
       "    }\n",
       "</style>\n",
       "<table border=\"1\" class=\"dataframe\">\n",
       "  <thead>\n",
       "    <tr style=\"text-align: right;\">\n",
       "      <th></th>\n",
       "      <th>Student No</th>\n",
       "      <th>Score</th>\n",
       "    </tr>\n",
       "  </thead>\n",
       "  <tbody>\n",
       "    <tr>\n",
       "      <th>0</th>\n",
       "      <td>A80082135P</td>\n",
       "      <td>16.98</td>\n",
       "    </tr>\n",
       "    <tr>\n",
       "      <th>1</th>\n",
       "      <td>A75939995U</td>\n",
       "      <td>15.92</td>\n",
       "    </tr>\n",
       "    <tr>\n",
       "      <th>2</th>\n",
       "      <td>A97067760C</td>\n",
       "      <td>15.16</td>\n",
       "    </tr>\n",
       "    <tr>\n",
       "      <th>3</th>\n",
       "      <td>A31152769E</td>\n",
       "      <td>17.22</td>\n",
       "    </tr>\n",
       "    <tr>\n",
       "      <th>4</th>\n",
       "      <td>A23853411O</td>\n",
       "      <td>17.73</td>\n",
       "    </tr>\n",
       "    <tr>\n",
       "      <th>5</th>\n",
       "      <td>A39424921D</td>\n",
       "      <td>16.46</td>\n",
       "    </tr>\n",
       "    <tr>\n",
       "      <th>6</th>\n",
       "      <td>A28951274W</td>\n",
       "      <td>15.75</td>\n",
       "    </tr>\n",
       "    <tr>\n",
       "      <th>7</th>\n",
       "      <td>A04222051I</td>\n",
       "      <td>15.37</td>\n",
       "    </tr>\n",
       "    <tr>\n",
       "      <th>8</th>\n",
       "      <td>A22419163B</td>\n",
       "      <td>14.49</td>\n",
       "    </tr>\n",
       "  </tbody>\n",
       "</table>\n",
       "</div>"
      ],
      "text/plain": [
       "   Student No  Score\n",
       "0  A80082135P  16.98\n",
       "1  A75939995U  15.92\n",
       "2  A97067760C  15.16\n",
       "3  A31152769E  17.22\n",
       "4  A23853411O  17.73\n",
       "5  A39424921D  16.46\n",
       "6  A28951274W  15.75\n",
       "7  A04222051I  15.37\n",
       "8  A22419163B  14.49"
      ]
     },
     "execution_count": 21,
     "metadata": {},
     "output_type": "execute_result"
    }
   ],
   "source": [
    "test1 = pd.read_excel('class_test-01.xlsx')\n",
    "test1"
   ]
  },
  {
   "cell_type": "code",
   "execution_count": 22,
   "id": "4c2b6b97",
   "metadata": {},
   "outputs": [
    {
     "data": {
      "text/html": [
       "<div>\n",
       "<style scoped>\n",
       "    .dataframe tbody tr th:only-of-type {\n",
       "        vertical-align: middle;\n",
       "    }\n",
       "\n",
       "    .dataframe tbody tr th {\n",
       "        vertical-align: top;\n",
       "    }\n",
       "\n",
       "    .dataframe thead th {\n",
       "        text-align: right;\n",
       "    }\n",
       "</style>\n",
       "<table border=\"1\" class=\"dataframe\">\n",
       "  <thead>\n",
       "    <tr style=\"text-align: right;\">\n",
       "      <th></th>\n",
       "      <th>Student No</th>\n",
       "      <th>Score</th>\n",
       "    </tr>\n",
       "  </thead>\n",
       "  <tbody>\n",
       "    <tr>\n",
       "      <th>0</th>\n",
       "      <td>A80082135P</td>\n",
       "      <td>19.83</td>\n",
       "    </tr>\n",
       "    <tr>\n",
       "      <th>1</th>\n",
       "      <td>A31152769E</td>\n",
       "      <td>15.72</td>\n",
       "    </tr>\n",
       "    <tr>\n",
       "      <th>2</th>\n",
       "      <td>A23853411O</td>\n",
       "      <td>19.37</td>\n",
       "    </tr>\n",
       "    <tr>\n",
       "      <th>3</th>\n",
       "      <td>A39424921D</td>\n",
       "      <td>21.96</td>\n",
       "    </tr>\n",
       "    <tr>\n",
       "      <th>4</th>\n",
       "      <td>A28951274W</td>\n",
       "      <td>19.20</td>\n",
       "    </tr>\n",
       "    <tr>\n",
       "      <th>5</th>\n",
       "      <td>A04222051I</td>\n",
       "      <td>19.23</td>\n",
       "    </tr>\n",
       "    <tr>\n",
       "      <th>6</th>\n",
       "      <td>A22419163B</td>\n",
       "      <td>19.11</td>\n",
       "    </tr>\n",
       "  </tbody>\n",
       "</table>\n",
       "</div>"
      ],
      "text/plain": [
       "   Student No  Score\n",
       "0  A80082135P  19.83\n",
       "1  A31152769E  15.72\n",
       "2  A23853411O  19.37\n",
       "3  A39424921D  21.96\n",
       "4  A28951274W  19.20\n",
       "5  A04222051I  19.23\n",
       "6  A22419163B  19.11"
      ]
     },
     "execution_count": 22,
     "metadata": {},
     "output_type": "execute_result"
    }
   ],
   "source": [
    "test2 = pd.read_excel('class_test-02.xlsx')\n",
    "test2"
   ]
  },
  {
   "cell_type": "code",
   "execution_count": 23,
   "id": "3a145611",
   "metadata": {},
   "outputs": [
    {
     "data": {
      "text/html": [
       "<div>\n",
       "<style scoped>\n",
       "    .dataframe tbody tr th:only-of-type {\n",
       "        vertical-align: middle;\n",
       "    }\n",
       "\n",
       "    .dataframe tbody tr th {\n",
       "        vertical-align: top;\n",
       "    }\n",
       "\n",
       "    .dataframe thead th {\n",
       "        text-align: right;\n",
       "    }\n",
       "</style>\n",
       "<table border=\"1\" class=\"dataframe\">\n",
       "  <thead>\n",
       "    <tr style=\"text-align: right;\">\n",
       "      <th></th>\n",
       "      <th>Student No</th>\n",
       "      <th>Name</th>\n",
       "      <th>Gender</th>\n",
       "      <th>Email</th>\n",
       "      <th>Major</th>\n",
       "    </tr>\n",
       "  </thead>\n",
       "  <tbody>\n",
       "    <tr>\n",
       "      <th>0</th>\n",
       "      <td>A80082135P</td>\n",
       "      <td>Delmer Ferland</td>\n",
       "      <td>M</td>\n",
       "      <td>delmer.ferland_2015@nus.edu.sg</td>\n",
       "      <td>Physics</td>\n",
       "    </tr>\n",
       "    <tr>\n",
       "      <th>1</th>\n",
       "      <td>A75939995U</td>\n",
       "      <td>Jonell Teske</td>\n",
       "      <td>F</td>\n",
       "      <td>jonell.teske_2016@nus.edu.sg</td>\n",
       "      <td>Physics</td>\n",
       "    </tr>\n",
       "    <tr>\n",
       "      <th>2</th>\n",
       "      <td>A97067760C</td>\n",
       "      <td>Cathern Kerwin</td>\n",
       "      <td>F</td>\n",
       "      <td>cathern.kerwin_2015@nus.edu.sg</td>\n",
       "      <td>Life Science</td>\n",
       "    </tr>\n",
       "    <tr>\n",
       "      <th>3</th>\n",
       "      <td>A31152769E</td>\n",
       "      <td>Tandra Kunz</td>\n",
       "      <td>F</td>\n",
       "      <td>tandra.kunz_2017@nus.edu.sg</td>\n",
       "      <td>Chemistry</td>\n",
       "    </tr>\n",
       "    <tr>\n",
       "      <th>4</th>\n",
       "      <td>A23853411O</td>\n",
       "      <td>Bryanna Ash</td>\n",
       "      <td>F</td>\n",
       "      <td>bryanna.ash_2017@nus.edu.sg</td>\n",
       "      <td>Chemistry</td>\n",
       "    </tr>\n",
       "    <tr>\n",
       "      <th>5</th>\n",
       "      <td>A51101573L</td>\n",
       "      <td>Helena Crandell</td>\n",
       "      <td>F</td>\n",
       "      <td>helena.crandell_2016@nus.edu.sg</td>\n",
       "      <td>Physics</td>\n",
       "    </tr>\n",
       "    <tr>\n",
       "      <th>6</th>\n",
       "      <td>A39424921D</td>\n",
       "      <td>Douglas Punc</td>\n",
       "      <td>M</td>\n",
       "      <td>douglas.punc_2013@nus.edu.sg</td>\n",
       "      <td>Physics</td>\n",
       "    </tr>\n",
       "    <tr>\n",
       "      <th>7</th>\n",
       "      <td>A28951274W</td>\n",
       "      <td>Anderson Maxie</td>\n",
       "      <td>M</td>\n",
       "      <td>anderson.maxie_2015@nus.edu.sg</td>\n",
       "      <td>Life Science</td>\n",
       "    </tr>\n",
       "    <tr>\n",
       "      <th>8</th>\n",
       "      <td>A04222051I</td>\n",
       "      <td>Sidney Warthen</td>\n",
       "      <td>M</td>\n",
       "      <td>sidney.warthen_2013@nus.edu.sg</td>\n",
       "      <td>Life Science</td>\n",
       "    </tr>\n",
       "    <tr>\n",
       "      <th>9</th>\n",
       "      <td>A22419163B</td>\n",
       "      <td>Felix Pine</td>\n",
       "      <td>M</td>\n",
       "      <td>felix.pine_2017@nus.edu.sg</td>\n",
       "      <td>Physics</td>\n",
       "    </tr>\n",
       "  </tbody>\n",
       "</table>\n",
       "</div>"
      ],
      "text/plain": [
       "   Student No               Name Gender                            Email  \\\n",
       "0  A80082135P   Delmer Ferland        M   delmer.ferland_2015@nus.edu.sg   \n",
       "1  A75939995U     Jonell Teske        F     jonell.teske_2016@nus.edu.sg   \n",
       "2  A97067760C   Cathern Kerwin        F   cathern.kerwin_2015@nus.edu.sg   \n",
       "3  A31152769E      Tandra Kunz        F      tandra.kunz_2017@nus.edu.sg   \n",
       "4  A23853411O      Bryanna Ash        F      bryanna.ash_2017@nus.edu.sg   \n",
       "5  A51101573L  Helena Crandell        F  helena.crandell_2016@nus.edu.sg   \n",
       "6  A39424921D       Douglas Punc      M     douglas.punc_2013@nus.edu.sg   \n",
       "7  A28951274W   Anderson Maxie        M   anderson.maxie_2015@nus.edu.sg   \n",
       "8  A04222051I   Sidney Warthen        M   sidney.warthen_2013@nus.edu.sg   \n",
       "9  A22419163B       Felix Pine        M       felix.pine_2017@nus.edu.sg   \n",
       "\n",
       "          Major  \n",
       "0       Physics  \n",
       "1       Physics  \n",
       "2  Life Science  \n",
       "3     Chemistry  \n",
       "4     Chemistry  \n",
       "5       Physics  \n",
       "6       Physics  \n",
       "7  Life Science  \n",
       "8  Life Science  \n",
       "9       Physics  "
      ]
     },
     "execution_count": 23,
     "metadata": {},
     "output_type": "execute_result"
    }
   ],
   "source": [
    "StD = pd.read_excel('class_names.xlsx')\n",
    "StD"
   ]
  },
  {
   "cell_type": "code",
   "execution_count": 25,
   "id": "7603950f",
   "metadata": {},
   "outputs": [
    {
     "ename": "KeyError",
     "evalue": "\"None of ['Student No'] are in the columns\"",
     "output_type": "error",
     "traceback": [
      "\u001b[1;31m---------------------------------------------------------------------------\u001b[0m",
      "\u001b[1;31mKeyError\u001b[0m                                  Traceback (most recent call last)",
      "Cell \u001b[1;32mIn[25], line 2\u001b[0m\n\u001b[0;32m      1\u001b[0m StD\u001b[38;5;241m.\u001b[39mset_index(\u001b[38;5;124m'\u001b[39m\u001b[38;5;124mStudent No\u001b[39m\u001b[38;5;124m'\u001b[39m, drop\u001b[38;5;241m=\u001b[39m\u001b[38;5;28;01mFalse\u001b[39;00m, inplace\u001b[38;5;241m=\u001b[39m\u001b[38;5;28;01mTrue\u001b[39;00m)\n\u001b[1;32m----> 2\u001b[0m \u001b[43mtest1\u001b[49m\u001b[38;5;241;43m.\u001b[39;49m\u001b[43mset_index\u001b[49m\u001b[43m(\u001b[49m\u001b[38;5;124;43m'\u001b[39;49m\u001b[38;5;124;43mStudent No\u001b[39;49m\u001b[38;5;124;43m'\u001b[39;49m\u001b[43m,\u001b[49m\u001b[43m \u001b[49m\u001b[43mdrop\u001b[49m\u001b[38;5;241;43m=\u001b[39;49m\u001b[38;5;28;43;01mTrue\u001b[39;49;00m\u001b[43m,\u001b[49m\u001b[43m \u001b[49m\u001b[43minplace\u001b[49m\u001b[38;5;241;43m=\u001b[39;49m\u001b[38;5;28;43;01mTrue\u001b[39;49;00m\u001b[43m)\u001b[49m\n\u001b[0;32m      3\u001b[0m test1\u001b[38;5;241m.\u001b[39mrename({\u001b[38;5;124m'\u001b[39m\u001b[38;5;124mScore\u001b[39m\u001b[38;5;124m'\u001b[39m: \u001b[38;5;124m'\u001b[39m\u001b[38;5;124mScore 1\u001b[39m\u001b[38;5;124m'\u001b[39m}, inplace\u001b[38;5;241m=\u001b[39m\u001b[38;5;28;01mTrue\u001b[39;00m)\n\u001b[0;32m      4\u001b[0m test2\u001b[38;5;241m.\u001b[39mset_index(\u001b[38;5;124m'\u001b[39m\u001b[38;5;124mStudent No\u001b[39m\u001b[38;5;124m'\u001b[39m, drop\u001b[38;5;241m=\u001b[39m\u001b[38;5;28;01mTrue\u001b[39;00m, inplace\u001b[38;5;241m=\u001b[39m\u001b[38;5;28;01mTrue\u001b[39;00m)\n",
      "File \u001b[1;32m~\\miniconda3\\lib\\site-packages\\pandas\\util\\_decorators.py:331\u001b[0m, in \u001b[0;36mdeprecate_nonkeyword_arguments.<locals>.decorate.<locals>.wrapper\u001b[1;34m(*args, **kwargs)\u001b[0m\n\u001b[0;32m    325\u001b[0m \u001b[38;5;28;01mif\u001b[39;00m \u001b[38;5;28mlen\u001b[39m(args) \u001b[38;5;241m>\u001b[39m num_allow_args:\n\u001b[0;32m    326\u001b[0m     warnings\u001b[38;5;241m.\u001b[39mwarn(\n\u001b[0;32m    327\u001b[0m         msg\u001b[38;5;241m.\u001b[39mformat(arguments\u001b[38;5;241m=\u001b[39m_format_argument_list(allow_args)),\n\u001b[0;32m    328\u001b[0m         \u001b[38;5;167;01mFutureWarning\u001b[39;00m,\n\u001b[0;32m    329\u001b[0m         stacklevel\u001b[38;5;241m=\u001b[39mfind_stack_level(),\n\u001b[0;32m    330\u001b[0m     )\n\u001b[1;32m--> 331\u001b[0m \u001b[38;5;28;01mreturn\u001b[39;00m func(\u001b[38;5;241m*\u001b[39margs, \u001b[38;5;241m*\u001b[39m\u001b[38;5;241m*\u001b[39mkwargs)\n",
      "File \u001b[1;32m~\\miniconda3\\lib\\site-packages\\pandas\\core\\frame.py:6009\u001b[0m, in \u001b[0;36mDataFrame.set_index\u001b[1;34m(self, keys, drop, append, inplace, verify_integrity)\u001b[0m\n\u001b[0;32m   6006\u001b[0m                 missing\u001b[38;5;241m.\u001b[39mappend(col)\n\u001b[0;32m   6008\u001b[0m \u001b[38;5;28;01mif\u001b[39;00m missing:\n\u001b[1;32m-> 6009\u001b[0m     \u001b[38;5;28;01mraise\u001b[39;00m \u001b[38;5;167;01mKeyError\u001b[39;00m(\u001b[38;5;124mf\u001b[39m\u001b[38;5;124m\"\u001b[39m\u001b[38;5;124mNone of \u001b[39m\u001b[38;5;132;01m{\u001b[39;00mmissing\u001b[38;5;132;01m}\u001b[39;00m\u001b[38;5;124m are in the columns\u001b[39m\u001b[38;5;124m\"\u001b[39m)\n\u001b[0;32m   6011\u001b[0m \u001b[38;5;28;01mif\u001b[39;00m inplace:\n\u001b[0;32m   6012\u001b[0m     frame \u001b[38;5;241m=\u001b[39m \u001b[38;5;28mself\u001b[39m\n",
      "\u001b[1;31mKeyError\u001b[0m: \"None of ['Student No'] are in the columns\""
     ]
    }
   ],
   "source": [
    "StD.set_index('Student No', drop=False, inplace=True)\n",
    "test1.set_index('Student No', drop=True, inplace=True)\n",
    "test1.rename({'Score': 'Score 1'}, inplace=True)\n",
    "test2.set_index('Student No', drop=True, inplace=True)\n",
    "test2.rename({'Score': 'Score 2'}, inplace=True)\n",
    "combined = pd.concat([StD,test1,test2], axis=1)\n",
    "combined.drop(columns=['Student No'], inplace=True)\n",
    "combined.fillna(0, inplace=True)\n",
    "combined #Pause"
   ]
  }
 ],
 "metadata": {
  "kernelspec": {
   "display_name": "Python 3 (ipykernel)",
   "language": "python",
   "name": "python3"
  },
  "language_info": {
   "codemirror_mode": {
    "name": "ipython",
    "version": 3
   },
   "file_extension": ".py",
   "mimetype": "text/x-python",
   "name": "python",
   "nbconvert_exporter": "python",
   "pygments_lexer": "ipython3",
   "version": "3.10.8"
  },
  "toc": {
   "base_numbering": 1,
   "nav_menu": {},
   "number_sections": true,
   "sideBar": true,
   "skip_h1_title": false,
   "title_cell": "Table of Contents",
   "title_sidebar": "Contents",
   "toc_cell": false,
   "toc_position": {},
   "toc_section_display": true,
   "toc_window_display": false
  },
  "vscode": {
   "interpreter": {
    "hash": "31f2aee4e71d21fbe5cf8b01ff0e069b9275f58929596ceb00d14d90e3e16cd6"
   }
  }
 },
 "nbformat": 4,
 "nbformat_minor": 5
}
