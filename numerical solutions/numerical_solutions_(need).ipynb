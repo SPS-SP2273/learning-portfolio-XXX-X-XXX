{
 "cells": [
  {
   "cell_type": "markdown",
   "id": "123456",
   "metadata": {},
   "source": [
    "<div style=\"text-align:left;font-size:2em\"><span style=\"font-weight:bolder;font-size:1.25em\">SP2273 | Learning Portfolio</span><br><br><span style=\"font-weight:bold;color:darkred\">Numerical Solutions (Need)</span></div>"
   ]
  },
  {
   "cell_type": "markdown",
   "id": "f395e721",
   "metadata": {},
   "source": [
    "## 1 A Bucket of water"
   ]
  },
  {
   "cell_type": "markdown",
   "id": "9470cfb8",
   "metadata": {},
   "source": [
    "### 1.1 Getting a feel"
   ]
  },
  {
   "cell_type": "code",
   "execution_count": null,
   "id": "416400dd",
   "metadata": {},
   "outputs": [],
   "source": [
    "\n",
    "# Your code here\n"
   ]
  },
  {
   "cell_type": "markdown",
   "id": "8e55f664",
   "metadata": {},
   "source": [
    "### 1.2 An overflowing bucket"
   ]
  },
  {
   "cell_type": "code",
   "execution_count": null,
   "id": "98c0c05a",
   "metadata": {},
   "outputs": [],
   "source": [
    "\n",
    "# Your code here\n"
   ]
  },
  {
   "cell_type": "markdown",
   "id": "b77d0028",
   "metadata": {},
   "source": [
    "### 1.3 A leaky bucket"
   ]
  },
  {
   "cell_type": "code",
   "execution_count": null,
   "id": "f09a679c",
   "metadata": {},
   "outputs": [],
   "source": [
    "\n",
    "# Your code here\n"
   ]
  },
  {
   "cell_type": "markdown",
   "id": "654cd518",
   "metadata": {},
   "source": [
    "### 1.4 Let’s turn off the tap"
   ]
  },
  {
   "cell_type": "code",
   "execution_count": null,
   "id": "e2cd3851",
   "metadata": {},
   "outputs": [],
   "source": [
    "\n",
    "# Your code here\n"
   ]
  },
  {
   "cell_type": "markdown",
   "id": "a9158402",
   "metadata": {},
   "source": [
    "### Using while"
   ]
  },
  {
   "cell_type": "code",
   "execution_count": null,
   "id": "1e721342",
   "metadata": {},
   "outputs": [],
   "source": [
    "\n",
    "# Your code here\n"
   ]
  },
  {
   "cell_type": "markdown",
   "id": "4aca887d",
   "metadata": {},
   "source": [
    "### 1.5 A quick summary"
   ]
  },
  {
   "cell_type": "code",
   "execution_count": null,
   "id": "84e8da9b",
   "metadata": {},
   "outputs": [],
   "source": [
    "\n",
    "# Your code here\n"
   ]
  },
  {
   "cell_type": "markdown",
   "id": "053ab550",
   "metadata": {},
   "source": [
    "### 1.6 We just solved a differential equation!"
   ]
  },
  {
   "cell_type": "code",
   "execution_count": null,
   "id": "eb0d23dc",
   "metadata": {},
   "outputs": [],
   "source": [
    "\n",
    "# Your code here\n"
   ]
  },
  {
   "cell_type": "markdown",
   "id": "c39cdb47",
   "metadata": {},
   "source": [
    "## 2 Simulating Radioactivity"
   ]
  },
  {
   "cell_type": "markdown",
   "id": "77075ad5",
   "metadata": {},
   "source": [
    "### 2.1 Introduction"
   ]
  },
  {
   "cell_type": "code",
   "execution_count": null,
   "id": "686786bf",
   "metadata": {},
   "outputs": [],
   "source": [
    "\n",
    "# Your code here\n"
   ]
  },
  {
   "cell_type": "markdown",
   "id": "4a771a05",
   "metadata": {},
   "source": [
    "### 2.2 Approximating the differential equation"
   ]
  },
  {
   "cell_type": "code",
   "execution_count": null,
   "id": "9d01d42b",
   "metadata": {},
   "outputs": [],
   "source": [
    "\n",
    "# Your code here\n"
   ]
  },
  {
   "cell_type": "markdown",
   "id": "e15bfa59",
   "metadata": {},
   "source": [
    "### 2.3 Getting a feel"
   ]
  },
  {
   "cell_type": "code",
   "execution_count": null,
   "id": "2f29f57e",
   "metadata": {},
   "outputs": [],
   "source": [
    "\n",
    "# Your code here\n"
   ]
  },
  {
   "cell_type": "markdown",
   "id": "04acfab4",
   "metadata": {},
   "source": [
    "### 2.4 Let’s write some code"
   ]
  },
  {
   "cell_type": "code",
   "execution_count": null,
   "id": "1e401d41",
   "metadata": {},
   "outputs": [],
   "source": [
    "\n",
    "# Your code here\n"
   ]
  },
  {
   "cell_type": "markdown",
   "id": "53fa8c5c",
   "metadata": {},
   "source": [
    "### 2.5 Some things to note about the code"
   ]
  },
  {
   "cell_type": "code",
   "execution_count": null,
   "id": "a1e26d42",
   "metadata": {},
   "outputs": [],
   "source": [
    "\n",
    "# Your code here\n"
   ]
  },
  {
   "cell_type": "markdown",
   "id": "62b6aed1",
   "metadata": {},
   "source": [
    "### 2.6 A quick summary"
   ]
  },
  {
   "cell_type": "code",
   "execution_count": null,
   "id": "325c99fb",
   "metadata": {},
   "outputs": [],
   "source": [
    "\n",
    "# Your code here\n"
   ]
  },
  {
   "cell_type": "markdown",
   "id": "ba35e58b",
   "metadata": {},
   "source": [
    "## Exercise 1 :  A more realistic leak"
   ]
  },
  {
   "cell_type": "code",
   "execution_count": 3,
   "id": "62991aec",
   "metadata": {},
   "outputs": [],
   "source": [
    "import numpy as np\n",
    "from matplotlib import pyplot as plt"
   ]
  },
  {
   "cell_type": "code",
   "execution_count": 9,
   "id": "8a3f3bc2",
   "metadata": {},
   "outputs": [
    {
     "name": "stdout",
     "output_type": "stream",
     "text": [
      "0.0071428571428571435\n"
     ]
    }
   ],
   "source": [
    "print((5*10**-3)/0.7)"
   ]
  },
  {
   "cell_type": "code",
   "execution_count": 53,
   "id": "aac6595b",
   "metadata": {},
   "outputs": [
    {
     "name": "stderr",
     "output_type": "stream",
     "text": [
      "C:\\Users\\Xavier\\AppData\\Local\\Temp\\ipykernel_11928\\3617507331.py:15: RuntimeWarning: invalid value encountered in sqrt\n",
      "  water_speed = np.sqrt(2*g*h) #speed in m/s\n"
     ]
    },
    {
     "data": {
      "text/plain": [
       "<matplotlib.collections.LineCollection at 0x246f1d62710>"
      ]
     },
     "execution_count": 53,
     "metadata": {},
     "output_type": "execute_result"
    },
    {
     "data": {
      "image/png": "[encoded data removed]",
      "text/plain": [
       "<Figure size 640x480 with 1 Axes>"
      ]
     },
     "metadata": {},
     "output_type": "display_data"
    }
   ],
   "source": [
    "tap_off_time = 3\n",
    "max_time = 5                     # Maximum time (mins)\n",
    "dt = .001                        # Time step (mins)\n",
    "rate = 5                         # Filling rate (L/min)\n",
    "bucket_capacity = 9              # L\n",
    "all_volume = []                  # To keep track of all volumes\n",
    "volume = 0                       # Starting volume\n",
    "g = 9.8                          # Gravitational constant\n",
    "bucket_base = 700                # cm^2\n",
    "hole = 1                         # cm^2\n",
    "time = 0\n",
    "\n",
    "def leak_rate(volume):\n",
    "    h = (volume*10**-3)/(bucket_base*10**-4) #height in m\n",
    "    water_speed = np.sqrt(2*g*h) #speed in m/s\n",
    "    rate = (hole*10**-4)*water_speed #rate in m^3/s\n",
    "    return rate*10**3*60 #rate in L/min\n",
    "\n",
    "all_time = np.arange(start=0, stop=max_time, step=dt)\n",
    "\n",
    "for time in all_time:\n",
    "    all_volume.append(volume)\n",
    "\n",
    "    dV = rate * dt\n",
    "    leak_volume = leak_rate(all_volume[-1]) * dt\n",
    "    volume -= leak_volume\n",
    "\n",
    "    if (volume <= bucket_capacity) and (time < tap_off_time):\n",
    "        volume += dV             # Update the new volume\n",
    "        \n",
    "    time += dt\n",
    "\n",
    "plt.plot(all_time, all_volume)\n",
    "plt.ylabel('Volume(L)')\n",
    "plt.xlabel('Time(mins)')\n",
    "plt.hlines(bucket_capacity, 0, max_time, colors='grey', ls='dashed')"
   ]
  }
 ],
 "metadata": {
  "kernelspec": {
   "display_name": "Python 3 (ipykernel)",
   "language": "python",
   "name": "python3"
  },
  "language_info": {
   "codemirror_mode": {
    "name": "ipython",
    "version": 3
   },
   "file_extension": ".py",
   "mimetype": "text/x-python",
   "name": "python",
   "nbconvert_exporter": "python",
   "pygments_lexer": "ipython3",
   "version": "3.10.8"
  },
  "toc": {
   "base_numbering": 1,
   "nav_menu": {},
   "number_sections": true,
   "sideBar": true,
   "skip_h1_title": false,
   "title_cell": "Table of Contents",
   "title_sidebar": "Contents",
   "toc_cell": false,
   "toc_position": {},
   "toc_section_display": true,
   "toc_window_display": false
  },
  "vscode": {
   "interpreter": {
    "hash": "31f2aee4e71d21fbe5cf8b01ff0e069b9275f58929596ceb00d14d90e3e16cd6"
   }
  }
 },
 "nbformat": 4,
 "nbformat_minor": 5
}
