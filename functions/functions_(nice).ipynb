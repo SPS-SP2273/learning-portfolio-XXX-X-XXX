{
 "cells": [
  {
   "cell_type": "markdown",
   "id": "123456",
   "metadata": {},
   "source": [
    "<div style=\"text-align:left;font-size:2em\"><span style=\"font-weight:bolder;font-size:1.25em\">SP2273 | Learning Portfolio</span><br><br><span style=\"font-weight:bold;color:darkred\">Functions (Nice)</span></div>"
   ]
  },
  {
   "cell_type": "markdown",
   "id": "af0abab9",
   "metadata": {},
   "source": [
    "## 1 Other things you can do with functions"
   ]
  },
  {
   "cell_type": "markdown",
   "id": "d6e396e8",
   "metadata": {},
   "source": [
    "### 1.1 Modularise and reuse"
   ]
  },
  {
   "cell_type": "code",
   "execution_count": null,
   "id": "9bfb4e0a",
   "metadata": {},
   "outputs": [],
   "source": [
    "\n",
    "# Your code here\n"
   ]
  },
  {
   "cell_type": "markdown",
   "id": "dc43f5d4",
   "metadata": {},
   "source": [
    "## 2 *args & **kwarg"
   ]
  },
  {
   "cell_type": "markdown",
   "id": "23f69bd9",
   "metadata": {},
   "source": [
    "### 2.1 *args"
   ]
  },
  {
   "cell_type": "code",
   "execution_count": null,
   "id": "c5cb1e02",
   "metadata": {},
   "outputs": [],
   "source": [
    "\n",
    "# Your code here\n"
   ]
  },
  {
   "cell_type": "markdown",
   "id": "3974daa5",
   "metadata": {},
   "source": [
    "### 2.2 **kwargs"
   ]
  },
  {
   "cell_type": "code",
   "execution_count": null,
   "id": "c52a2c72",
   "metadata": {},
   "outputs": [],
   "source": [
    "\n",
    "# Your code here\n"
   ]
  },
  {
   "cell_type": "markdown",
   "id": "eed406bd",
   "metadata": {},
   "source": [
    "### 2.3 Passing variable to functions"
   ]
  },
  {
   "cell_type": "code",
   "execution_count": null,
   "id": "6ea6f469",
   "metadata": {},
   "outputs": [],
   "source": [
    "\n",
    "# Your code here\n"
   ]
  },
  {
   "cell_type": "markdown",
   "id": "fadb65aa",
   "metadata": {},
   "source": [
    "## 3 There is more to exceptions"
   ]
  },
  {
   "cell_type": "markdown",
   "id": "abe443b4",
   "metadata": {},
   "source": [
    "### 3.1 A list of exceptions"
   ]
  },
  {
   "cell_type": "code",
   "execution_count": null,
   "id": "1b354081",
   "metadata": {},
   "outputs": [],
   "source": [
    "\n",
    "# Your code here\n"
   ]
  },
  {
   "cell_type": "markdown",
   "id": "f4a3f2e9",
   "metadata": {},
   "source": [
    "### 3.2 Handling specific exceptions"
   ]
  },
  {
   "cell_type": "code",
   "execution_count": null,
   "id": "9a47e571",
   "metadata": {},
   "outputs": [],
   "source": [
    "\n",
    "# Your code here\n"
   ]
  },
  {
   "cell_type": "markdown",
   "id": "ae0db907",
   "metadata": {},
   "source": [
    "### 3.3 try also has an else"
   ]
  },
  {
   "cell_type": "code",
   "execution_count": null,
   "id": "9c9e02b8",
   "metadata": {},
   "outputs": [],
   "source": [
    "\n",
    "# Your code here\n"
   ]
  },
  {
   "cell_type": "markdown",
   "id": "22250f8b",
   "metadata": {},
   "source": [
    "## Explore 1 :  Modularise"
   ]
  },
  {
   "cell_type": "code",
   "execution_count": null,
   "id": "54c2021a",
   "metadata": {},
   "outputs": [],
   "source": []
  },
  {
   "cell_type": "code",
   "execution_count": 1,
   "id": "d0bc6fb4",
   "metadata": {},
   "outputs": [
    {
     "data": {
      "text/plain": [
       "3"
      ]
     },
     "execution_count": 1,
     "metadata": {},
     "output_type": "execute_result"
    }
   ],
   "source": [
    "import my_math\n",
    "my_math.add(1,2)"
   ]
  },
  {
   "cell_type": "markdown",
   "id": "36109ced",
   "metadata": {},
   "source": [
    "## Explore 2 :  Angles and trig functions"
   ]
  },
  {
   "cell_type": "code",
   "execution_count": 5,
   "id": "ffcd05a3",
   "metadata": {},
   "outputs": [
    {
     "data": {
      "text/plain": [
       "[[1.5707963267948966, 1.0],\n",
       " [3.141592653589793, -1.0],\n",
       " [0.7853981633974483, 0.9999999999999999]]"
      ]
     },
     "execution_count": 5,
     "metadata": {},
     "output_type": "execute_result"
    }
   ],
   "source": [
    "import numpy as np\n",
    "def my_trig_function(*args, **kwargs):\n",
    "    result = []\n",
    "    functions = kwargs['functions']\n",
    "    for i, angle in enumerate(args):\n",
    "        trig_function_value = functions[i](angle)\n",
    "        result.append([angle, trig_function_value])\n",
    "    return(result)\n",
    "\n",
    "# Using the function\n",
    "my_trig_function(np.pi/2, np.pi, np.pi / 4,\n",
    "                functions=[np.sin, np.cos, np.tan]\n",
    "                )\n",
    "\n",
    "#Paused here, will continue next session"
   ]
  }
 ],
 "metadata": {
  "kernelspec": {
   "display_name": "Python 3 (ipykernel)",
   "language": "python",
   "name": "python3"
  },
  "language_info": {
   "codemirror_mode": {
    "name": "ipython",
    "version": 3
   },
   "file_extension": ".py",
   "mimetype": "text/x-python",
   "name": "python",
   "nbconvert_exporter": "python",
   "pygments_lexer": "ipython3",
   "version": "3.10.8"
  },
  "toc": {
   "base_numbering": 1,
   "nav_menu": {},
   "number_sections": true,
   "sideBar": true,
   "skip_h1_title": false,
   "title_cell": "Table of Contents",
   "title_sidebar": "Contents",
   "toc_cell": false,
   "toc_position": {},
   "toc_section_display": true,
   "toc_window_display": false
  },
  "vscode": {
   "interpreter": {
    "hash": "31f2aee4e71d21fbe5cf8b01ff0e069b9275f58929596ceb00d14d90e3e16cd6"
   }
  }
 },
 "nbformat": 4,
 "nbformat_minor": 5
}
