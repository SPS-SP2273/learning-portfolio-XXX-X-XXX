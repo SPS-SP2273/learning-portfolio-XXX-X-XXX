{
 "cells": [
  {
   "cell_type": "markdown",
   "id": "123456",
   "metadata": {},
   "source": [
    "<div style=\"text-align:left;font-size:2em\"><span style=\"font-weight:bolder;font-size:1.25em\">SP2273 | Learning Portfolio</span><br><br><span style=\"font-weight:bold;color:darkred\">Using Jupyter (Need)</span></div>"
   ]
  },
  {
   "cell_type": "markdown",
   "id": "1df4cac2",
   "metadata": {},
   "source": [
    "## 1 Getting started with Jupyter"
   ]
  },
  {
   "cell_type": "markdown",
   "id": "a007b108",
   "metadata": {},
   "source": [
    "### 1.1 Its all about running cells"
   ]
  },
  {
   "cell_type": "code",
   "execution_count": 1,
   "id": "441547f7",
   "metadata": {},
   "outputs": [
    {
     "name": "stdout",
     "output_type": "stream",
     "text": [
      "6\n"
     ]
    }
   ],
   "source": [
    "\n",
    "a = 4\n",
    "b = 2\n",
    "c = a + b\n",
    "print(c)"
   ]
  },
  {
   "cell_type": "markdown",
   "id": "4fedc068",
   "metadata": {},
   "source": [
    "### 1.2 A traditional start"
   ]
  },
  {
   "cell_type": "code",
   "execution_count": 2,
   "id": "d70f06d8",
   "metadata": {},
   "outputs": [
    {
     "name": "stdout",
     "output_type": "stream",
     "text": [
      "Hello World\n"
     ]
    }
   ],
   "source": [
    "\n",
    "print('Hello World')"
   ]
  },
  {
   "cell_type": "markdown",
   "id": "19fb9b68",
   "metadata": {},
   "source": [
    "## 2 All about Markdown"
   ]
  },
  {
   "cell_type": "markdown",
   "id": "9ea35fa3",
   "metadata": {},
   "source": [
    "### 2.1 Rendering Markdown cells"
   ]
  },
  {
   "cell_type": "markdown",
   "id": "9eb91084",
   "metadata": {},
   "source": [
    "The ships hung in the sky in much the same way that bricks don’t."
   ]
  },
  {
   "cell_type": "markdown",
   "id": "1204319d",
   "metadata": {},
   "source": [
    "### 2.2 Some basic syntax"
   ]
  },
  {
   "cell_type": "markdown",
   "id": "c34b8d56",
   "metadata": {},
   "source": [
    "The ships *hung in the sky* in much the same way **that bricks don’t.**<sup>1</sup>\n",
    "<sub>QUOTE</sub>"
   ]
  },
  {
   "cell_type": "markdown",
   "id": "fe8a049a",
   "metadata": {},
   "source": [
    "### 2.3 Headings"
   ]
  },
  {
   "cell_type": "markdown",
   "id": "5e936c60",
   "metadata": {},
   "source": [
    "\n",
    "# The largest heading\n",
    "\n",
    "## The second-largest heading\n",
    "\n",
    "### The third-largest heading\n",
    "\n",
    "###### The smallest heading"
   ]
  },
  {
   "cell_type": "markdown",
   "id": "20ad0139",
   "metadata": {},
   "source": [
    "### 2.4 Displaying Code"
   ]
  },
  {
   "cell_type": "markdown",
   "id": "6c153a9c",
   "metadata": {},
   "source": [
    "\n",
    "```python\n",
    "print('Hello World!')\n",
    "```"
   ]
  },
  {
   "cell_type": "markdown",
   "id": "ea3dc71b",
   "metadata": {},
   "source": [
    "### 2.5 Links"
   ]
  },
  {
   "cell_type": "markdown",
   "id": "a0a3a572",
   "metadata": {},
   "source": [
    "\n",
    "[SP2273 Website](https://sps.nus.edu.sg/sp2273)"
   ]
  },
  {
   "cell_type": "markdown",
   "id": "a73b77b0",
   "metadata": {},
   "source": [
    "### 2.6 Images"
   ]
  },
  {
   "cell_type": "markdown",
   "id": "47f7d539",
   "metadata": {},
   "source": [
    "\n",
    "![](https://nus.edu.sg/images/default-source/base/logo.png)\n"
   ]
  },
  {
   "cell_type": "markdown",
   "id": "2afc64e3",
   "metadata": {},
   "source": [
    "### 2.7 Tables"
   ]
  },
  {
   "cell_type": "markdown",
   "id": "07cae70f",
   "metadata": {},
   "source": [
    "| A    |  B   |    C |\n",
    "| :--- | :--: | ---: |\n",
    "| a1   |  b1  |   c1 |\n",
    "| a2   |  b2  |   c2 |\n",
    "| a3   |  b3  |   c3 |"
   ]
  },
  {
   "cell_type": "markdown",
   "id": "9315c57c",
   "metadata": {},
   "source": [
    "### 2.8 Lists"
   ]
  },
  {
   "cell_type": "markdown",
   "id": "5d4df8bf",
   "metadata": {},
   "source": [
    "1. Apple\n",
    "    - Banana\n",
    "    - Strawberry\n",
    "2. Cherry\n",
    "    - Potato\n",
    "    - Tomato"
   ]
  },
  {
   "cell_type": "markdown",
   "id": "5876aff7",
   "metadata": {},
   "source": [
    "### 2.9 Equations"
   ]
  },
  {
   "cell_type": "markdown",
   "id": "92df9c9d",
   "metadata": {},
   "source": [
    "$$\n",
    "x = \\dfrac{-b \\pm \\sqrt{b^2-4ac}}{2a}\n",
    "$$"
   ]
  },
  {
   "cell_type": "markdown",
   "id": "45b0795c",
   "metadata": {},
   "source": [
    "## Exercise 1 :  Put it in Markdown"
   ]
  },
  {
   "cell_type": "markdown",
   "id": "9c6fa80c",
   "metadata": {},
   "source": [
    "**Quadratic Equations**\n",
    "\n",
    "![](https://upload.wikimedia.org/wikipedia/commons/f/f8/Polynomialdeg2.svg)\n",
    "\n",
    "*(Image from the [Wikipedia page on Quadratic equations](https://en.wikipedia.org/wiki/Quadratic_equation))*\n",
    "\n",
    "**Introduction**\n",
    "\n",
    "The general form of a quadratic equation is:\n",
    "\n",
    "$$\n",
    "ax^2+bx+c=0\n",
    "$$\n",
    "\n",
    "**Solutions** Provided $a\\ne0$, we can use an elementary algebraic method called [completeing the square](https://en.wikipedia.org/wiki/Completing_the_square) toshow that a quadratic equation has the following solution:\n",
    "\n",
    "$$\n",
    "x = \\dfrac{-b \\pm \\sqrt{b^2-4ac}}{2a}\n",
    "$$\n",
    "\n",
    "**Discriminant**\n",
    "\n",
    "The quantity $Δ=b^2-4ac$ is called the **discriminant** of the equation and decides the nature of its solutions. the table below shows the various possibilities.\n",
    "\n",
    "|**Discriminat**|**Roots**|\n",
    "|:--------------|--------:|\n",
    "|$$Δ=b^2-4ac=0$$|A single solution of $-b/(2a)$|\n",
    "|$Δ=b^2-4ac\\gt0$|Two distinct solutions|\n",
    "|$Δ=b^2-4ac\\lt0$|No real solutions; both are complex|"
   ]
  },
  {
   "cell_type": "markdown",
   "id": "d3e78ae2",
   "metadata": {},
   "source": [
    "## Exercise 2 :  In your own words"
   ]
  },
  {
   "cell_type": "markdown",
   "id": "e7a9bb46",
   "metadata": {},
   "source": [
    "1. What is a **repository**?\n",
    "\n",
    "a folder on the GitHub server created to hold your Learning Portfolio.\n",
    "\n",
    "2. Git keep tracks of changes in the files in our repository.\n",
    "\n",
    "3. What is a **commit**?\n",
    "\n",
    "A change to a repository that is tracked by GitHub.\n",
    "\n",
    "4. What is a **push**?\n",
    "\n",
    "An update to the repository stored in cloud based on changes made locally.\n",
    "\n",
    "5. What is the difference between **GitHub** and **GitHub Desktop**?\n",
    "\n",
    "GitHub holds the repository stored on cloud. GitHub Desktop tracks the repository stored locally. Commits on Desktop need to be pushed to update the repository in cloud.\n",
    "\n",
    "6. Is there an 'opposite' to a **push**?\n",
    "\n",
    "Cloning files from the online repository to the local repository"
   ]
  }
 ],
 "metadata": {
  "kernelspec": {
   "display_name": "Python 3 (ipykernel)",
   "language": "python",
   "name": "python3"
  },
  "language_info": {
   "codemirror_mode": {
    "name": "ipython",
    "version": 3
   },
   "file_extension": ".py",
   "mimetype": "text/x-python",
   "name": "python",
   "nbconvert_exporter": "python",
   "pygments_lexer": "ipython3",
   "version": "3.10.8"
  },
  "toc": {
   "base_numbering": 1,
   "nav_menu": {},
   "number_sections": true,
   "sideBar": true,
   "skip_h1_title": false,
   "title_cell": "Table of Contents",
   "title_sidebar": "Contents",
   "toc_cell": false,
   "toc_position": {},
   "toc_section_display": true,
   "toc_window_display": false
  },
  "vscode": {
   "interpreter": {
    "hash": "31f2aee4e71d21fbe5cf8b01ff0e069b9275f58929596ceb00d14d90e3e16cd6"
   }
  }
 },
 "nbformat": 4,
 "nbformat_minor": 5
}
